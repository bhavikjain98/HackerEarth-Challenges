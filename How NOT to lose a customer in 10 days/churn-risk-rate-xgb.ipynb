{
 "cells": [
  {
   "cell_type": "code",
   "execution_count": 1,
   "metadata": {
    "execution": {
     "iopub.execute_input": "2021-03-27T12:38:13.283292Z",
     "iopub.status.busy": "2021-03-27T12:38:13.282639Z",
     "iopub.status.idle": "2021-03-27T12:38:17.691278Z",
     "shell.execute_reply": "2021-03-27T12:38:17.690193Z"
    },
    "papermill": {
     "duration": 4.431858,
     "end_time": "2021-03-27T12:38:17.691503",
     "exception": false,
     "start_time": "2021-03-27T12:38:13.259645",
     "status": "completed"
    },
    "tags": []
   },
   "outputs": [],
   "source": [
    "import pandas as pd\n",
    "import numpy as np\n",
    "import matplotlib.pyplot as plt\n",
    "from sklearn.ensemble import RandomForestClassifier\n",
    "from sklearn.model_selection import train_test_split\n",
    "from sklearn.metrics import *\n",
    "import xgboost\n",
    "from sklearn.model_selection import RandomizedSearchCV"
   ]
  },
  {
   "cell_type": "code",
   "execution_count": 2,
   "metadata": {
    "execution": {
     "iopub.execute_input": "2021-03-27T12:38:17.738473Z",
     "iopub.status.busy": "2021-03-27T12:38:17.737886Z",
     "iopub.status.idle": "2021-03-27T12:38:18.041417Z",
     "shell.execute_reply": "2021-03-27T12:38:18.041816Z"
    },
    "papermill": {
     "duration": 0.332239,
     "end_time": "2021-03-27T12:38:18.041956",
     "exception": false,
     "start_time": "2021-03-27T12:38:17.709717",
     "status": "completed"
    },
    "tags": []
   },
   "outputs": [
    {
     "data": {
      "text/html": [
       "<div>\n",
       "<style scoped>\n",
       "    .dataframe tbody tr th:only-of-type {\n",
       "        vertical-align: middle;\n",
       "    }\n",
       "\n",
       "    .dataframe tbody tr th {\n",
       "        vertical-align: top;\n",
       "    }\n",
       "\n",
       "    .dataframe thead th {\n",
       "        text-align: right;\n",
       "    }\n",
       "</style>\n",
       "<table border=\"1\" class=\"dataframe\">\n",
       "  <thead>\n",
       "    <tr style=\"text-align: right;\">\n",
       "      <th></th>\n",
       "      <th>customer_id</th>\n",
       "      <th>Name</th>\n",
       "      <th>age</th>\n",
       "      <th>gender</th>\n",
       "      <th>security_no</th>\n",
       "      <th>region_category</th>\n",
       "      <th>membership_category</th>\n",
       "      <th>joining_date</th>\n",
       "      <th>joined_through_referral</th>\n",
       "      <th>referral_id</th>\n",
       "      <th>...</th>\n",
       "      <th>avg_time_spent</th>\n",
       "      <th>avg_transaction_value</th>\n",
       "      <th>avg_frequency_login_days</th>\n",
       "      <th>points_in_wallet</th>\n",
       "      <th>used_special_discount</th>\n",
       "      <th>offer_application_preference</th>\n",
       "      <th>past_complaint</th>\n",
       "      <th>complaint_status</th>\n",
       "      <th>feedback</th>\n",
       "      <th>churn_risk_score</th>\n",
       "    </tr>\n",
       "  </thead>\n",
       "  <tbody>\n",
       "    <tr>\n",
       "      <th>0</th>\n",
       "      <td>fffe4300490044003600300030003800</td>\n",
       "      <td>Pattie Morrisey</td>\n",
       "      <td>18</td>\n",
       "      <td>F</td>\n",
       "      <td>XW0DQ7H</td>\n",
       "      <td>Village</td>\n",
       "      <td>Platinum Membership</td>\n",
       "      <td>2017-08-17</td>\n",
       "      <td>No</td>\n",
       "      <td>NaN</td>\n",
       "      <td>...</td>\n",
       "      <td>300.63</td>\n",
       "      <td>53005.25</td>\n",
       "      <td>17.0</td>\n",
       "      <td>781.75</td>\n",
       "      <td>Yes</td>\n",
       "      <td>Yes</td>\n",
       "      <td>No</td>\n",
       "      <td>Not Applicable</td>\n",
       "      <td>Products always in Stock</td>\n",
       "      <td>2</td>\n",
       "    </tr>\n",
       "    <tr>\n",
       "      <th>1</th>\n",
       "      <td>fffe43004900440032003100300035003700</td>\n",
       "      <td>Traci Peery</td>\n",
       "      <td>32</td>\n",
       "      <td>F</td>\n",
       "      <td>5K0N3X1</td>\n",
       "      <td>City</td>\n",
       "      <td>Premium Membership</td>\n",
       "      <td>2017-08-28</td>\n",
       "      <td>NaN</td>\n",
       "      <td>CID21329</td>\n",
       "      <td>...</td>\n",
       "      <td>306.34</td>\n",
       "      <td>12838.38</td>\n",
       "      <td>10.0</td>\n",
       "      <td>NaN</td>\n",
       "      <td>Yes</td>\n",
       "      <td>No</td>\n",
       "      <td>Yes</td>\n",
       "      <td>Solved</td>\n",
       "      <td>Quality Customer Care</td>\n",
       "      <td>1</td>\n",
       "    </tr>\n",
       "    <tr>\n",
       "      <th>2</th>\n",
       "      <td>fffe4300490044003100390032003600</td>\n",
       "      <td>Merideth Mcmeen</td>\n",
       "      <td>44</td>\n",
       "      <td>F</td>\n",
       "      <td>1F2TCL3</td>\n",
       "      <td>Town</td>\n",
       "      <td>No Membership</td>\n",
       "      <td>2016-11-11</td>\n",
       "      <td>Yes</td>\n",
       "      <td>CID12313</td>\n",
       "      <td>...</td>\n",
       "      <td>516.16</td>\n",
       "      <td>21027.00</td>\n",
       "      <td>22.0</td>\n",
       "      <td>500.69</td>\n",
       "      <td>No</td>\n",
       "      <td>Yes</td>\n",
       "      <td>Yes</td>\n",
       "      <td>Solved in Follow-up</td>\n",
       "      <td>Poor Website</td>\n",
       "      <td>5</td>\n",
       "    </tr>\n",
       "    <tr>\n",
       "      <th>3</th>\n",
       "      <td>fffe43004900440036003000330031003600</td>\n",
       "      <td>Eufemia Cardwell</td>\n",
       "      <td>37</td>\n",
       "      <td>M</td>\n",
       "      <td>VJGJ33N</td>\n",
       "      <td>City</td>\n",
       "      <td>No Membership</td>\n",
       "      <td>2016-10-29</td>\n",
       "      <td>Yes</td>\n",
       "      <td>CID3793</td>\n",
       "      <td>...</td>\n",
       "      <td>53.27</td>\n",
       "      <td>25239.56</td>\n",
       "      <td>6.0</td>\n",
       "      <td>567.66</td>\n",
       "      <td>No</td>\n",
       "      <td>Yes</td>\n",
       "      <td>Yes</td>\n",
       "      <td>Unsolved</td>\n",
       "      <td>Poor Website</td>\n",
       "      <td>5</td>\n",
       "    </tr>\n",
       "    <tr>\n",
       "      <th>4</th>\n",
       "      <td>fffe43004900440031003900350030003600</td>\n",
       "      <td>Meghan Kosak</td>\n",
       "      <td>31</td>\n",
       "      <td>F</td>\n",
       "      <td>SVZXCWB</td>\n",
       "      <td>City</td>\n",
       "      <td>No Membership</td>\n",
       "      <td>2017-09-12</td>\n",
       "      <td>No</td>\n",
       "      <td>NaN</td>\n",
       "      <td>...</td>\n",
       "      <td>113.13</td>\n",
       "      <td>24483.66</td>\n",
       "      <td>16.0</td>\n",
       "      <td>663.06</td>\n",
       "      <td>No</td>\n",
       "      <td>Yes</td>\n",
       "      <td>Yes</td>\n",
       "      <td>Solved</td>\n",
       "      <td>Poor Website</td>\n",
       "      <td>5</td>\n",
       "    </tr>\n",
       "  </tbody>\n",
       "</table>\n",
       "<p>5 rows × 25 columns</p>\n",
       "</div>"
      ],
      "text/plain": [
       "                            customer_id              Name  age gender  \\\n",
       "0      fffe4300490044003600300030003800   Pattie Morrisey   18      F   \n",
       "1  fffe43004900440032003100300035003700       Traci Peery   32      F   \n",
       "2      fffe4300490044003100390032003600   Merideth Mcmeen   44      F   \n",
       "3  fffe43004900440036003000330031003600  Eufemia Cardwell   37      M   \n",
       "4  fffe43004900440031003900350030003600      Meghan Kosak   31      F   \n",
       "\n",
       "  security_no region_category  membership_category joining_date  \\\n",
       "0     XW0DQ7H         Village  Platinum Membership   2017-08-17   \n",
       "1     5K0N3X1            City   Premium Membership   2017-08-28   \n",
       "2     1F2TCL3            Town        No Membership   2016-11-11   \n",
       "3     VJGJ33N            City        No Membership   2016-10-29   \n",
       "4     SVZXCWB            City        No Membership   2017-09-12   \n",
       "\n",
       "  joined_through_referral referral_id  ... avg_time_spent  \\\n",
       "0                      No         NaN  ...         300.63   \n",
       "1                     NaN    CID21329  ...         306.34   \n",
       "2                     Yes    CID12313  ...         516.16   \n",
       "3                     Yes     CID3793  ...          53.27   \n",
       "4                      No         NaN  ...         113.13   \n",
       "\n",
       "  avg_transaction_value avg_frequency_login_days points_in_wallet  \\\n",
       "0              53005.25                     17.0           781.75   \n",
       "1              12838.38                     10.0              NaN   \n",
       "2              21027.00                     22.0           500.69   \n",
       "3              25239.56                      6.0           567.66   \n",
       "4              24483.66                     16.0           663.06   \n",
       "\n",
       "   used_special_discount  offer_application_preference  past_complaint  \\\n",
       "0                    Yes                           Yes              No   \n",
       "1                    Yes                            No             Yes   \n",
       "2                     No                           Yes             Yes   \n",
       "3                     No                           Yes             Yes   \n",
       "4                     No                           Yes             Yes   \n",
       "\n",
       "      complaint_status                  feedback churn_risk_score  \n",
       "0       Not Applicable  Products always in Stock                2  \n",
       "1               Solved     Quality Customer Care                1  \n",
       "2  Solved in Follow-up              Poor Website                5  \n",
       "3             Unsolved              Poor Website                5  \n",
       "4               Solved              Poor Website                5  \n",
       "\n",
       "[5 rows x 25 columns]"
      ]
     },
     "execution_count": 2,
     "metadata": {},
     "output_type": "execute_result"
    }
   ],
   "source": [
    "df=pd.read_csv('../input/hackerearth-how-not-to-lose-a-customer-in-10-days/train.csv',na_values=['?','-999','Error','xxxxxxxx'])\n",
    "df.head()"
   ]
  },
  {
   "cell_type": "code",
   "execution_count": 3,
   "metadata": {
    "execution": {
     "iopub.execute_input": "2021-03-27T12:38:18.082194Z",
     "iopub.status.busy": "2021-03-27T12:38:18.081720Z",
     "iopub.status.idle": "2021-03-27T12:38:18.148651Z",
     "shell.execute_reply": "2021-03-27T12:38:18.149713Z"
    },
    "papermill": {
     "duration": 0.089313,
     "end_time": "2021-03-27T12:38:18.149913",
     "exception": false,
     "start_time": "2021-03-27T12:38:18.060600",
     "status": "completed"
    },
    "tags": []
   },
   "outputs": [
    {
     "data": {
      "text/plain": [
       "customer_id                         0\n",
       "Name                                0\n",
       "age                                 0\n",
       "gender                              0\n",
       "security_no                         0\n",
       "region_category                  5428\n",
       "membership_category                 0\n",
       "joining_date                        0\n",
       "joined_through_referral          5438\n",
       "referral_id                     17846\n",
       "preferred_offer_types             288\n",
       "medium_of_operation              5393\n",
       "internet_option                     0\n",
       "last_visit_time                     0\n",
       "days_since_last_login            1999\n",
       "avg_time_spent                      0\n",
       "avg_transaction_value               0\n",
       "avg_frequency_login_days         3522\n",
       "points_in_wallet                 3443\n",
       "used_special_discount               0\n",
       "offer_application_preference        0\n",
       "past_complaint                      0\n",
       "complaint_status                    0\n",
       "feedback                            0\n",
       "churn_risk_score                    0\n",
       "dtype: int64"
      ]
     },
     "execution_count": 3,
     "metadata": {},
     "output_type": "execute_result"
    }
   ],
   "source": [
    "df.isnull().sum()"
   ]
  },
  {
   "cell_type": "code",
   "execution_count": 4,
   "metadata": {
    "execution": {
     "iopub.execute_input": "2021-03-27T12:38:18.224025Z",
     "iopub.status.busy": "2021-03-27T12:38:18.223130Z",
     "iopub.status.idle": "2021-03-27T12:38:18.226401Z",
     "shell.execute_reply": "2021-03-27T12:38:18.224707Z"
    },
    "papermill": {
     "duration": 0.04443,
     "end_time": "2021-03-27T12:38:18.226577",
     "exception": false,
     "start_time": "2021-03-27T12:38:18.182147",
     "status": "completed"
    },
    "tags": []
   },
   "outputs": [
    {
     "data": {
      "text/plain": [
       "(36992, 25)"
      ]
     },
     "execution_count": 4,
     "metadata": {},
     "output_type": "execute_result"
    }
   ],
   "source": [
    "df.shape"
   ]
  },
  {
   "cell_type": "code",
   "execution_count": 5,
   "metadata": {
    "execution": {
     "iopub.execute_input": "2021-03-27T12:38:18.314954Z",
     "iopub.status.busy": "2021-03-27T12:38:18.314036Z",
     "iopub.status.idle": "2021-03-27T12:38:18.318952Z",
     "shell.execute_reply": "2021-03-27T12:38:18.321360Z"
    },
    "papermill": {
     "duration": 0.053038,
     "end_time": "2021-03-27T12:38:18.321585",
     "exception": false,
     "start_time": "2021-03-27T12:38:18.268547",
     "status": "completed"
    },
    "tags": []
   },
   "outputs": [],
   "source": [
    "df=df.drop(['customer_id','Name','security_no','referral_id','last_visit_time'],axis=1)"
   ]
  },
  {
   "cell_type": "code",
   "execution_count": 6,
   "metadata": {
    "execution": {
     "iopub.execute_input": "2021-03-27T12:38:18.420074Z",
     "iopub.status.busy": "2021-03-27T12:38:18.419226Z",
     "iopub.status.idle": "2021-03-27T12:38:18.429722Z",
     "shell.execute_reply": "2021-03-27T12:38:18.430498Z"
    },
    "papermill": {
     "duration": 0.064924,
     "end_time": "2021-03-27T12:38:18.430691",
     "exception": false,
     "start_time": "2021-03-27T12:38:18.365767",
     "status": "completed"
    },
    "tags": []
   },
   "outputs": [
    {
     "data": {
      "text/plain": [
       " 3    10424\n",
       " 4    10185\n",
       " 5     9827\n",
       " 2     2741\n",
       " 1     2652\n",
       "-1     1163\n",
       "Name: churn_risk_score, dtype: int64"
      ]
     },
     "execution_count": 6,
     "metadata": {},
     "output_type": "execute_result"
    }
   ],
   "source": [
    "df['churn_risk_score'].value_counts()"
   ]
  },
  {
   "cell_type": "code",
   "execution_count": 7,
   "metadata": {
    "execution": {
     "iopub.execute_input": "2021-03-27T12:38:18.513897Z",
     "iopub.status.busy": "2021-03-27T12:38:18.511363Z",
     "iopub.status.idle": "2021-03-27T12:38:18.989747Z",
     "shell.execute_reply": "2021-03-27T12:38:18.994345Z"
    },
    "papermill": {
     "duration": 0.529683,
     "end_time": "2021-03-27T12:38:18.994545",
     "exception": false,
     "start_time": "2021-03-27T12:38:18.464862",
     "status": "completed"
    },
    "tags": []
   },
   "outputs": [
    {
     "data": {
      "image/png": "[encoded data removed]",
      "text/plain": [
       "<Figure size 432x288 with 1 Axes>"
      ]
     },
     "metadata": {
      "needs_background": "light"
     },
     "output_type": "display_data"
    }
   ],
   "source": [
    "df['churn_risk_score'].hist()\n",
    "plt.show()"
   ]
  },
  {
   "cell_type": "code",
   "execution_count": 8,
   "metadata": {
    "execution": {
     "iopub.execute_input": "2021-03-27T12:38:19.231304Z",
     "iopub.status.busy": "2021-03-27T12:38:19.230553Z",
     "iopub.status.idle": "2021-03-27T12:38:19.248927Z",
     "shell.execute_reply": "2021-03-27T12:38:19.249855Z"
    },
    "papermill": {
     "duration": 0.191558,
     "end_time": "2021-03-27T12:38:19.250052",
     "exception": false,
     "start_time": "2021-03-27T12:38:19.058494",
     "status": "completed"
    },
    "tags": []
   },
   "outputs": [
    {
     "name": "stdout",
     "output_type": "stream",
     "text": [
      "<class 'pandas.core.frame.DataFrame'>\n",
      "RangeIndex: 36992 entries, 0 to 36991\n",
      "Data columns (total 20 columns):\n",
      " #   Column                        Non-Null Count  Dtype  \n",
      "---  ------                        --------------  -----  \n",
      " 0   age                           36992 non-null  int64  \n",
      " 1   gender                        36992 non-null  object \n",
      " 2   region_category               31564 non-null  object \n",
      " 3   membership_category           36992 non-null  object \n",
      " 4   joining_date                  36992 non-null  object \n",
      " 5   joined_through_referral       31554 non-null  object \n",
      " 6   preferred_offer_types         36704 non-null  object \n",
      " 7   medium_of_operation           31599 non-null  object \n",
      " 8   internet_option               36992 non-null  object \n",
      " 9   days_since_last_login         34993 non-null  float64\n",
      " 10  avg_time_spent                36992 non-null  float64\n",
      " 11  avg_transaction_value         36992 non-null  float64\n",
      " 12  avg_frequency_login_days      33470 non-null  float64\n",
      " 13  points_in_wallet              33549 non-null  float64\n",
      " 14  used_special_discount         36992 non-null  object \n",
      " 15  offer_application_preference  36992 non-null  object \n",
      " 16  past_complaint                36992 non-null  object \n",
      " 17  complaint_status              36992 non-null  object \n",
      " 18  feedback                      36992 non-null  object \n",
      " 19  churn_risk_score              36992 non-null  int64  \n",
      "dtypes: float64(5), int64(2), object(13)\n",
      "memory usage: 5.6+ MB\n"
     ]
    }
   ],
   "source": [
    "df.info()"
   ]
  },
  {
   "cell_type": "code",
   "execution_count": 9,
   "metadata": {
    "execution": {
     "iopub.execute_input": "2021-03-27T12:38:19.333507Z",
     "iopub.status.busy": "2021-03-27T12:38:19.332663Z",
     "iopub.status.idle": "2021-03-27T12:38:19.412404Z",
     "shell.execute_reply": "2021-03-27T12:38:19.413348Z"
    },
    "papermill": {
     "duration": 0.128116,
     "end_time": "2021-03-27T12:38:19.413535",
     "exception": false,
     "start_time": "2021-03-27T12:38:19.285419",
     "status": "completed"
    },
    "tags": []
   },
   "outputs": [],
   "source": [
    "for i in df.columns:\n",
    "    if df[i].dtype=='float64':\n",
    "        df[i]=df[i].fillna(df[i].mean())\n",
    "    else:\n",
    "        df[i]=df[i].fillna(method='ffill')"
   ]
  },
  {
   "cell_type": "code",
   "execution_count": 10,
   "metadata": {
    "execution": {
     "iopub.execute_input": "2021-03-27T12:38:19.551591Z",
     "iopub.status.busy": "2021-03-27T12:38:19.549557Z",
     "iopub.status.idle": "2021-03-27T12:38:19.561801Z",
     "shell.execute_reply": "2021-03-27T12:38:19.560916Z"
    },
    "papermill": {
     "duration": 0.112766,
     "end_time": "2021-03-27T12:38:19.561911",
     "exception": false,
     "start_time": "2021-03-27T12:38:19.449145",
     "status": "completed"
    },
    "tags": []
   },
   "outputs": [
    {
     "data": {
      "text/plain": [
       "age                             0\n",
       "gender                          0\n",
       "region_category                 0\n",
       "membership_category             0\n",
       "joining_date                    0\n",
       "joined_through_referral         0\n",
       "preferred_offer_types           0\n",
       "medium_of_operation             1\n",
       "internet_option                 0\n",
       "days_since_last_login           0\n",
       "avg_time_spent                  0\n",
       "avg_transaction_value           0\n",
       "avg_frequency_login_days        0\n",
       "points_in_wallet                0\n",
       "used_special_discount           0\n",
       "offer_application_preference    0\n",
       "past_complaint                  0\n",
       "complaint_status                0\n",
       "feedback                        0\n",
       "churn_risk_score                0\n",
       "dtype: int64"
      ]
     },
     "execution_count": 10,
     "metadata": {},
     "output_type": "execute_result"
    }
   ],
   "source": [
    "df.isnull().sum()"
   ]
  },
  {
   "cell_type": "code",
   "execution_count": 11,
   "metadata": {
    "execution": {
     "iopub.execute_input": "2021-03-27T12:38:19.650306Z",
     "iopub.status.busy": "2021-03-27T12:38:19.649569Z",
     "iopub.status.idle": "2021-03-27T12:38:19.654896Z",
     "shell.execute_reply": "2021-03-27T12:38:19.655275Z"
    },
    "papermill": {
     "duration": 0.072101,
     "end_time": "2021-03-27T12:38:19.655441",
     "exception": false,
     "start_time": "2021-03-27T12:38:19.583340",
     "status": "completed"
    },
    "tags": []
   },
   "outputs": [],
   "source": [
    "df.fillna('Both',inplace=True)"
   ]
  },
  {
   "cell_type": "code",
   "execution_count": 12,
   "metadata": {
    "execution": {
     "iopub.execute_input": "2021-03-27T12:38:19.711737Z",
     "iopub.status.busy": "2021-03-27T12:38:19.701241Z",
     "iopub.status.idle": "2021-03-27T12:38:19.736995Z",
     "shell.execute_reply": "2021-03-27T12:38:19.736610Z"
    },
    "papermill": {
     "duration": 0.060701,
     "end_time": "2021-03-27T12:38:19.737097",
     "exception": false,
     "start_time": "2021-03-27T12:38:19.676396",
     "status": "completed"
    },
    "tags": []
   },
   "outputs": [],
   "source": [
    "df['joining_date']=df['joining_date'].apply(lambda x:int(x.split('-')[0]))"
   ]
  },
  {
   "cell_type": "code",
   "execution_count": 13,
   "metadata": {
    "execution": {
     "iopub.execute_input": "2021-03-27T12:38:19.784393Z",
     "iopub.status.busy": "2021-03-27T12:38:19.783215Z",
     "iopub.status.idle": "2021-03-27T12:38:19.785644Z",
     "shell.execute_reply": "2021-03-27T12:38:19.786032Z"
    },
    "papermill": {
     "duration": 0.027943,
     "end_time": "2021-03-27T12:38:19.786144",
     "exception": false,
     "start_time": "2021-03-27T12:38:19.758201",
     "status": "completed"
    },
    "tags": []
   },
   "outputs": [],
   "source": [
    "df.rename(columns={'joining_date':'joining_year'},inplace=True)"
   ]
  },
  {
   "cell_type": "code",
   "execution_count": 14,
   "metadata": {
    "execution": {
     "iopub.execute_input": "2021-03-27T12:38:19.834174Z",
     "iopub.status.busy": "2021-03-27T12:38:19.833409Z",
     "iopub.status.idle": "2021-03-27T12:38:19.898443Z",
     "shell.execute_reply": "2021-03-27T12:38:19.898006Z"
    },
    "papermill": {
     "duration": 0.091014,
     "end_time": "2021-03-27T12:38:19.898560",
     "exception": false,
     "start_time": "2021-03-27T12:38:19.807546",
     "status": "completed"
    },
    "tags": []
   },
   "outputs": [],
   "source": [
    "df1=pd.get_dummies(df,drop_first=True)"
   ]
  },
  {
   "cell_type": "code",
   "execution_count": 15,
   "metadata": {
    "execution": {
     "iopub.execute_input": "2021-03-27T12:38:19.945417Z",
     "iopub.status.busy": "2021-03-27T12:38:19.944892Z",
     "iopub.status.idle": "2021-03-27T12:38:19.950498Z",
     "shell.execute_reply": "2021-03-27T12:38:19.950880Z"
    },
    "papermill": {
     "duration": 0.030976,
     "end_time": "2021-03-27T12:38:19.951000",
     "exception": false,
     "start_time": "2021-03-27T12:38:19.920024",
     "status": "completed"
    },
    "tags": []
   },
   "outputs": [],
   "source": [
    "x=df1.drop('churn_risk_score',axis=1)\n",
    "y=df1['churn_risk_score']"
   ]
  },
  {
   "cell_type": "code",
   "execution_count": 16,
   "metadata": {
    "execution": {
     "iopub.execute_input": "2021-03-27T12:38:19.998481Z",
     "iopub.status.busy": "2021-03-27T12:38:19.997659Z",
     "iopub.status.idle": "2021-03-27T12:38:20.029975Z",
     "shell.execute_reply": "2021-03-27T12:38:20.029578Z"
    },
    "papermill": {
     "duration": 0.057716,
     "end_time": "2021-03-27T12:38:20.030078",
     "exception": false,
     "start_time": "2021-03-27T12:38:19.972362",
     "status": "completed"
    },
    "tags": []
   },
   "outputs": [],
   "source": [
    "x_train,x_test,y_train,y_test=train_test_split(x,y,test_size=0.1,stratify=y)"
   ]
  },
  {
   "cell_type": "code",
   "execution_count": 17,
   "metadata": {
    "execution": {
     "iopub.execute_input": "2021-03-27T12:38:20.076916Z",
     "iopub.status.busy": "2021-03-27T12:38:20.076420Z",
     "iopub.status.idle": "2021-03-27T12:38:20.079784Z",
     "shell.execute_reply": "2021-03-27T12:38:20.080154Z"
    },
    "papermill": {
     "duration": 0.028519,
     "end_time": "2021-03-27T12:38:20.080272",
     "exception": false,
     "start_time": "2021-03-27T12:38:20.051753",
     "status": "completed"
    },
    "tags": []
   },
   "outputs": [],
   "source": [
    "xgb = xgboost.XGBClassifier(tree_method= 'gpu_hist')"
   ]
  },
  {
   "cell_type": "code",
   "execution_count": 18,
   "metadata": {
    "execution": {
     "iopub.execute_input": "2021-03-27T12:38:20.127713Z",
     "iopub.status.busy": "2021-03-27T12:38:20.126908Z",
     "iopub.status.idle": "2021-03-27T12:38:22.678514Z",
     "shell.execute_reply": "2021-03-27T12:38:22.677633Z"
    },
    "papermill": {
     "duration": 2.576697,
     "end_time": "2021-03-27T12:38:22.678642",
     "exception": false,
     "start_time": "2021-03-27T12:38:20.101945",
     "status": "completed"
    },
    "tags": []
   },
   "outputs": [
    {
     "name": "stderr",
     "output_type": "stream",
     "text": [
      "/opt/conda/lib/python3.7/site-packages/xgboost/sklearn.py:888: UserWarning: The use of label encoder in XGBClassifier is deprecated and will be removed in a future release. To remove this warning, do the following: 1) Pass option use_label_encoder=False when constructing XGBClassifier object; and 2) Encode your labels (y) as integers starting with 0, i.e. 0, 1, 2, ..., [num_class - 1].\n",
      "  warnings.warn(label_encoder_deprecation_msg, UserWarning)\n"
     ]
    },
    {
     "name": "stdout",
     "output_type": "stream",
     "text": [
      "[12:38:20] WARNING: ../src/learner.cc:1061: Starting in XGBoost 1.3.0, the default evaluation metric used with the objective 'multi:softprob' was changed from 'merror' to 'mlogloss'. Explicitly set eval_metric if you'd like to restore the old behavior.\n"
     ]
    },
    {
     "data": {
      "text/plain": [
       "XGBClassifier(base_score=0.5, booster='gbtree', colsample_bylevel=1,\n",
       "              colsample_bynode=1, colsample_bytree=1, gamma=0, gpu_id=0,\n",
       "              importance_type='gain', interaction_constraints='',\n",
       "              learning_rate=0.300000012, max_delta_step=0, max_depth=6,\n",
       "              min_child_weight=1, missing=nan, monotone_constraints='()',\n",
       "              n_estimators=100, n_jobs=2, num_parallel_tree=1,\n",
       "              objective='multi:softprob', random_state=0, reg_alpha=0,\n",
       "              reg_lambda=1, scale_pos_weight=None, subsample=1,\n",
       "              tree_method='gpu_hist', validate_parameters=1, verbosity=None)"
      ]
     },
     "execution_count": 18,
     "metadata": {},
     "output_type": "execute_result"
    }
   ],
   "source": [
    "xgb.fit(x_train,y_train)"
   ]
  },
  {
   "cell_type": "code",
   "execution_count": 19,
   "metadata": {
    "execution": {
     "iopub.execute_input": "2021-03-27T12:38:22.736273Z",
     "iopub.status.busy": "2021-03-27T12:38:22.735594Z",
     "iopub.status.idle": "2021-03-27T12:38:22.770537Z",
     "shell.execute_reply": "2021-03-27T12:38:22.770991Z"
    },
    "papermill": {
     "duration": 0.069762,
     "end_time": "2021-03-27T12:38:22.771141",
     "exception": false,
     "start_time": "2021-03-27T12:38:22.701379",
     "status": "completed"
    },
    "tags": []
   },
   "outputs": [],
   "source": [
    "pred=xgb.predict(x_test)"
   ]
  },
  {
   "cell_type": "code",
   "execution_count": 20,
   "metadata": {
    "execution": {
     "iopub.execute_input": "2021-03-27T12:38:22.825998Z",
     "iopub.status.busy": "2021-03-27T12:38:22.824115Z",
     "iopub.status.idle": "2021-03-27T12:38:22.829843Z",
     "shell.execute_reply": "2021-03-27T12:38:22.829240Z"
    },
    "papermill": {
     "duration": 0.034117,
     "end_time": "2021-03-27T12:38:22.829984",
     "exception": false,
     "start_time": "2021-03-27T12:38:22.795867",
     "status": "completed"
    },
    "tags": []
   },
   "outputs": [
    {
     "name": "stdout",
     "output_type": "stream",
     "text": [
      "0.7589189189189189\n"
     ]
    }
   ],
   "source": [
    "print(f1_score(y_test,pred,average='micro'))"
   ]
  },
  {
   "cell_type": "code",
   "execution_count": 21,
   "metadata": {
    "execution": {
     "iopub.execute_input": "2021-03-27T12:38:22.880689Z",
     "iopub.status.busy": "2021-03-27T12:38:22.880129Z",
     "iopub.status.idle": "2021-03-27T12:38:22.883599Z",
     "shell.execute_reply": "2021-03-27T12:38:22.883994Z"
    },
    "papermill": {
     "duration": 0.029779,
     "end_time": "2021-03-27T12:38:22.884107",
     "exception": false,
     "start_time": "2021-03-27T12:38:22.854328",
     "status": "completed"
    },
    "tags": []
   },
   "outputs": [],
   "source": [
    "# params={'learning_rate':[0.05,0.1,0.15],\n",
    "#       'max_depth':[2,4,6,8],\n",
    "#       'min_child_weight':[1,3,5],\n",
    "#       'gamma':[0.2,0.3,0.4,0.5],\n",
    "#       'colsample_bytree':[0.4,0.5,0.7]}"
   ]
  },
  {
   "cell_type": "code",
   "execution_count": 22,
   "metadata": {
    "execution": {
     "iopub.execute_input": "2021-03-27T12:38:22.933667Z",
     "iopub.status.busy": "2021-03-27T12:38:22.933139Z",
     "iopub.status.idle": "2021-03-27T12:38:22.937178Z",
     "shell.execute_reply": "2021-03-27T12:38:22.936752Z"
    },
    "papermill": {
     "duration": 0.029723,
     "end_time": "2021-03-27T12:38:22.937275",
     "exception": false,
     "start_time": "2021-03-27T12:38:22.907552",
     "status": "completed"
    },
    "tags": []
   },
   "outputs": [],
   "source": [
    "# model=RandomizedSearchCV(xgb,param_distributions=params,n_iter=100,cv=3,n_jobs=-1)\n",
    "# model.fit(x,y)"
   ]
  },
  {
   "cell_type": "code",
   "execution_count": 23,
   "metadata": {
    "execution": {
     "iopub.execute_input": "2021-03-27T12:38:22.988521Z",
     "iopub.status.busy": "2021-03-27T12:38:22.986717Z",
     "iopub.status.idle": "2021-03-27T12:38:22.989088Z",
     "shell.execute_reply": "2021-03-27T12:38:22.989521Z"
    },
    "papermill": {
     "duration": 0.029158,
     "end_time": "2021-03-27T12:38:22.989647",
     "exception": false,
     "start_time": "2021-03-27T12:38:22.960489",
     "status": "completed"
    },
    "tags": []
   },
   "outputs": [],
   "source": [
    "# model.best_params_"
   ]
  },
  {
   "cell_type": "code",
   "execution_count": 24,
   "metadata": {
    "execution": {
     "iopub.execute_input": "2021-03-27T12:38:23.040904Z",
     "iopub.status.busy": "2021-03-27T12:38:23.040209Z",
     "iopub.status.idle": "2021-03-27T12:38:23.043034Z",
     "shell.execute_reply": "2021-03-27T12:38:23.042648Z"
    },
    "papermill": {
     "duration": 0.029751,
     "end_time": "2021-03-27T12:38:23.043146",
     "exception": false,
     "start_time": "2021-03-27T12:38:23.013395",
     "status": "completed"
    },
    "tags": []
   },
   "outputs": [],
   "source": [
    "model1 = xgboost.XGBClassifier(min_child_weight= 3,\n",
    " max_depth= 4,\n",
    " learning_rate= 0.1,\n",
    " gamma= 0.5,\n",
    " colsample_bytree= 0.7)"
   ]
  },
  {
   "cell_type": "code",
   "execution_count": 25,
   "metadata": {
    "execution": {
     "iopub.execute_input": "2021-03-27T12:38:23.094633Z",
     "iopub.status.busy": "2021-03-27T12:38:23.093865Z",
     "iopub.status.idle": "2021-03-27T12:38:38.240685Z",
     "shell.execute_reply": "2021-03-27T12:38:38.239824Z"
    },
    "papermill": {
     "duration": 15.174108,
     "end_time": "2021-03-27T12:38:38.240829",
     "exception": false,
     "start_time": "2021-03-27T12:38:23.066721",
     "status": "completed"
    },
    "tags": []
   },
   "outputs": [
    {
     "name": "stderr",
     "output_type": "stream",
     "text": [
      "/opt/conda/lib/python3.7/site-packages/xgboost/sklearn.py:888: UserWarning: The use of label encoder in XGBClassifier is deprecated and will be removed in a future release. To remove this warning, do the following: 1) Pass option use_label_encoder=False when constructing XGBClassifier object; and 2) Encode your labels (y) as integers starting with 0, i.e. 0, 1, 2, ..., [num_class - 1].\n",
      "  warnings.warn(label_encoder_deprecation_msg, UserWarning)\n"
     ]
    },
    {
     "name": "stdout",
     "output_type": "stream",
     "text": [
      "[12:38:23] WARNING: ../src/learner.cc:1061: Starting in XGBoost 1.3.0, the default evaluation metric used with the objective 'multi:softprob' was changed from 'merror' to 'mlogloss'. Explicitly set eval_metric if you'd like to restore the old behavior.\n"
     ]
    },
    {
     "data": {
      "text/plain": [
       "XGBClassifier(base_score=0.5, booster='gbtree', colsample_bylevel=1,\n",
       "              colsample_bynode=1, colsample_bytree=0.7, gamma=0.5, gpu_id=-1,\n",
       "              importance_type='gain', interaction_constraints='',\n",
       "              learning_rate=0.1, max_delta_step=0, max_depth=4,\n",
       "              min_child_weight=3, missing=nan, monotone_constraints='()',\n",
       "              n_estimators=100, n_jobs=2, num_parallel_tree=1,\n",
       "              objective='multi:softprob', random_state=0, reg_alpha=0,\n",
       "              reg_lambda=1, scale_pos_weight=None, subsample=1,\n",
       "              tree_method='exact', validate_parameters=1, verbosity=None)"
      ]
     },
     "execution_count": 25,
     "metadata": {},
     "output_type": "execute_result"
    }
   ],
   "source": [
    "model1.fit(x,y)"
   ]
  },
  {
   "cell_type": "code",
   "execution_count": 26,
   "metadata": {
    "execution": {
     "iopub.execute_input": "2021-03-27T12:38:38.309802Z",
     "iopub.status.busy": "2021-03-27T12:38:38.309161Z",
     "iopub.status.idle": "2021-03-27T12:38:38.471571Z",
     "shell.execute_reply": "2021-03-27T12:38:38.470700Z"
    },
    "papermill": {
     "duration": 0.201264,
     "end_time": "2021-03-27T12:38:38.471711",
     "exception": false,
     "start_time": "2021-03-27T12:38:38.270447",
     "status": "completed"
    },
    "tags": []
   },
   "outputs": [
    {
     "data": {
      "text/html": [
       "<div>\n",
       "<style scoped>\n",
       "    .dataframe tbody tr th:only-of-type {\n",
       "        vertical-align: middle;\n",
       "    }\n",
       "\n",
       "    .dataframe tbody tr th {\n",
       "        vertical-align: top;\n",
       "    }\n",
       "\n",
       "    .dataframe thead th {\n",
       "        text-align: right;\n",
       "    }\n",
       "</style>\n",
       "<table border=\"1\" class=\"dataframe\">\n",
       "  <thead>\n",
       "    <tr style=\"text-align: right;\">\n",
       "      <th></th>\n",
       "      <th>customer_id</th>\n",
       "      <th>Name</th>\n",
       "      <th>age</th>\n",
       "      <th>gender</th>\n",
       "      <th>security_no</th>\n",
       "      <th>region_category</th>\n",
       "      <th>membership_category</th>\n",
       "      <th>joining_date</th>\n",
       "      <th>joined_through_referral</th>\n",
       "      <th>referral_id</th>\n",
       "      <th>...</th>\n",
       "      <th>days_since_last_login</th>\n",
       "      <th>avg_time_spent</th>\n",
       "      <th>avg_transaction_value</th>\n",
       "      <th>avg_frequency_login_days</th>\n",
       "      <th>points_in_wallet</th>\n",
       "      <th>used_special_discount</th>\n",
       "      <th>offer_application_preference</th>\n",
       "      <th>past_complaint</th>\n",
       "      <th>complaint_status</th>\n",
       "      <th>feedback</th>\n",
       "    </tr>\n",
       "  </thead>\n",
       "  <tbody>\n",
       "    <tr>\n",
       "      <th>0</th>\n",
       "      <td>fffe43004900440031003700300030003400</td>\n",
       "      <td>Alethia Meints</td>\n",
       "      <td>50</td>\n",
       "      <td>F</td>\n",
       "      <td>OQJ1XAY</td>\n",
       "      <td>Village</td>\n",
       "      <td>Premium Membership</td>\n",
       "      <td>2015-11-02</td>\n",
       "      <td>No</td>\n",
       "      <td>NaN</td>\n",
       "      <td>...</td>\n",
       "      <td>12.0</td>\n",
       "      <td>386.26</td>\n",
       "      <td>40721.44</td>\n",
       "      <td>7.0</td>\n",
       "      <td>733.830000</td>\n",
       "      <td>Yes</td>\n",
       "      <td>No</td>\n",
       "      <td>No</td>\n",
       "      <td>Not Applicable</td>\n",
       "      <td>Poor Product Quality</td>\n",
       "    </tr>\n",
       "    <tr>\n",
       "      <th>1</th>\n",
       "      <td>fffe43004900440031003900370037003300</td>\n",
       "      <td>Ming Lopez</td>\n",
       "      <td>41</td>\n",
       "      <td>M</td>\n",
       "      <td>OUQRPKO</td>\n",
       "      <td>Village</td>\n",
       "      <td>Gold Membership</td>\n",
       "      <td>2016-03-01</td>\n",
       "      <td>No</td>\n",
       "      <td>NaN</td>\n",
       "      <td>...</td>\n",
       "      <td>11.0</td>\n",
       "      <td>37.80</td>\n",
       "      <td>9644.40</td>\n",
       "      <td>9.0</td>\n",
       "      <td>726.000000</td>\n",
       "      <td>Yes</td>\n",
       "      <td>No</td>\n",
       "      <td>No</td>\n",
       "      <td>Not Applicable</td>\n",
       "      <td>Poor Website</td>\n",
       "    </tr>\n",
       "    <tr>\n",
       "      <th>2</th>\n",
       "      <td>fffe43004900440034003800360037003000</td>\n",
       "      <td>Carina Flannigan</td>\n",
       "      <td>31</td>\n",
       "      <td>F</td>\n",
       "      <td>02J2RE7</td>\n",
       "      <td>Town</td>\n",
       "      <td>Silver Membership</td>\n",
       "      <td>2017-03-03</td>\n",
       "      <td>No</td>\n",
       "      <td>NaN</td>\n",
       "      <td>...</td>\n",
       "      <td>18.0</td>\n",
       "      <td>215.36</td>\n",
       "      <td>3693.25</td>\n",
       "      <td>21.0</td>\n",
       "      <td>713.780000</td>\n",
       "      <td>Yes</td>\n",
       "      <td>No</td>\n",
       "      <td>Yes</td>\n",
       "      <td>Solved in Follow-up</td>\n",
       "      <td>No reason specified</td>\n",
       "    </tr>\n",
       "    <tr>\n",
       "      <th>3</th>\n",
       "      <td>fffe43004900440036003200370033003400</td>\n",
       "      <td>Kyung Wanner</td>\n",
       "      <td>64</td>\n",
       "      <td>M</td>\n",
       "      <td>5YEQIF1</td>\n",
       "      <td>Town</td>\n",
       "      <td>Silver Membership</td>\n",
       "      <td>2017-08-18</td>\n",
       "      <td>Yes</td>\n",
       "      <td>CID8941</td>\n",
       "      <td>...</td>\n",
       "      <td>NaN</td>\n",
       "      <td>44.57</td>\n",
       "      <td>36809.56</td>\n",
       "      <td>11.0</td>\n",
       "      <td>744.970000</td>\n",
       "      <td>Yes</td>\n",
       "      <td>No</td>\n",
       "      <td>Yes</td>\n",
       "      <td>No Information Available</td>\n",
       "      <td>Too many ads</td>\n",
       "    </tr>\n",
       "    <tr>\n",
       "      <th>4</th>\n",
       "      <td>fffe43004900440035003000370031003900</td>\n",
       "      <td>Enola Gatto</td>\n",
       "      <td>16</td>\n",
       "      <td>F</td>\n",
       "      <td>100RYB5</td>\n",
       "      <td>Town</td>\n",
       "      <td>No Membership</td>\n",
       "      <td>2015-05-05</td>\n",
       "      <td>Yes</td>\n",
       "      <td>CID5690</td>\n",
       "      <td>...</td>\n",
       "      <td>6.0</td>\n",
       "      <td>349.88</td>\n",
       "      <td>40675.86</td>\n",
       "      <td>8.0</td>\n",
       "      <td>299.048351</td>\n",
       "      <td>No</td>\n",
       "      <td>Yes</td>\n",
       "      <td>Yes</td>\n",
       "      <td>Solved in Follow-up</td>\n",
       "      <td>Poor Website</td>\n",
       "    </tr>\n",
       "  </tbody>\n",
       "</table>\n",
       "<p>5 rows × 24 columns</p>\n",
       "</div>"
      ],
      "text/plain": [
       "                            customer_id              Name  age gender  \\\n",
       "0  fffe43004900440031003700300030003400    Alethia Meints   50      F   \n",
       "1  fffe43004900440031003900370037003300        Ming Lopez   41      M   \n",
       "2  fffe43004900440034003800360037003000  Carina Flannigan   31      F   \n",
       "3  fffe43004900440036003200370033003400      Kyung Wanner   64      M   \n",
       "4  fffe43004900440035003000370031003900       Enola Gatto   16      F   \n",
       "\n",
       "  security_no region_category membership_category joining_date  \\\n",
       "0     OQJ1XAY         Village  Premium Membership   2015-11-02   \n",
       "1     OUQRPKO         Village     Gold Membership   2016-03-01   \n",
       "2     02J2RE7            Town   Silver Membership   2017-03-03   \n",
       "3     5YEQIF1            Town   Silver Membership   2017-08-18   \n",
       "4     100RYB5            Town       No Membership   2015-05-05   \n",
       "\n",
       "  joined_through_referral referral_id  ... days_since_last_login  \\\n",
       "0                      No         NaN  ...                  12.0   \n",
       "1                      No         NaN  ...                  11.0   \n",
       "2                      No         NaN  ...                  18.0   \n",
       "3                     Yes     CID8941  ...                   NaN   \n",
       "4                     Yes     CID5690  ...                   6.0   \n",
       "\n",
       "  avg_time_spent avg_transaction_value avg_frequency_login_days  \\\n",
       "0         386.26              40721.44                      7.0   \n",
       "1          37.80               9644.40                      9.0   \n",
       "2         215.36               3693.25                     21.0   \n",
       "3          44.57              36809.56                     11.0   \n",
       "4         349.88              40675.86                      8.0   \n",
       "\n",
       "   points_in_wallet  used_special_discount  offer_application_preference  \\\n",
       "0        733.830000                    Yes                            No   \n",
       "1        726.000000                    Yes                            No   \n",
       "2        713.780000                    Yes                            No   \n",
       "3        744.970000                    Yes                            No   \n",
       "4        299.048351                     No                           Yes   \n",
       "\n",
       "   past_complaint          complaint_status              feedback  \n",
       "0              No            Not Applicable  Poor Product Quality  \n",
       "1              No            Not Applicable          Poor Website  \n",
       "2             Yes       Solved in Follow-up   No reason specified  \n",
       "3             Yes  No Information Available          Too many ads  \n",
       "4             Yes       Solved in Follow-up          Poor Website  \n",
       "\n",
       "[5 rows x 24 columns]"
      ]
     },
     "execution_count": 26,
     "metadata": {},
     "output_type": "execute_result"
    }
   ],
   "source": [
    "test=pd.read_csv('../input/hackerearth-how-not-to-lose-a-customer-in-10-days/test.csv',na_values=['?','-999','Error','xxxxxxxx'])\n",
    "test.head()"
   ]
  },
  {
   "cell_type": "code",
   "execution_count": 27,
   "metadata": {
    "execution": {
     "iopub.execute_input": "2021-03-27T12:38:38.530810Z",
     "iopub.status.busy": "2021-03-27T12:38:38.528338Z",
     "iopub.status.idle": "2021-03-27T12:38:38.533397Z",
     "shell.execute_reply": "2021-03-27T12:38:38.532984Z"
    },
    "papermill": {
     "duration": 0.034418,
     "end_time": "2021-03-27T12:38:38.533509",
     "exception": false,
     "start_time": "2021-03-27T12:38:38.499091",
     "status": "completed"
    },
    "tags": []
   },
   "outputs": [],
   "source": [
    "test=test.drop(['customer_id','Name','security_no','referral_id','last_visit_time'],axis=1)"
   ]
  },
  {
   "cell_type": "code",
   "execution_count": 28,
   "metadata": {
    "execution": {
     "iopub.execute_input": "2021-03-27T12:38:38.608057Z",
     "iopub.status.busy": "2021-03-27T12:38:38.607580Z",
     "iopub.status.idle": "2021-03-27T12:38:38.624845Z",
     "shell.execute_reply": "2021-03-27T12:38:38.624168Z"
    },
    "papermill": {
     "duration": 0.066532,
     "end_time": "2021-03-27T12:38:38.624977",
     "exception": false,
     "start_time": "2021-03-27T12:38:38.558445",
     "status": "completed"
    },
    "tags": []
   },
   "outputs": [],
   "source": [
    "for i in test.columns:\n",
    "    if test[i].dtype=='float64':\n",
    "        test[i]=test[i].fillna(test[i].mean())\n",
    "    else:\n",
    "        test[i]=test[i].fillna(method='ffill')"
   ]
  },
  {
   "cell_type": "code",
   "execution_count": 29,
   "metadata": {
    "execution": {
     "iopub.execute_input": "2021-03-27T12:38:38.702008Z",
     "iopub.status.busy": "2021-03-27T12:38:38.700713Z",
     "iopub.status.idle": "2021-03-27T12:38:38.704889Z",
     "shell.execute_reply": "2021-03-27T12:38:38.704495Z"
    },
    "papermill": {
     "duration": 0.051921,
     "end_time": "2021-03-27T12:38:38.704997",
     "exception": false,
     "start_time": "2021-03-27T12:38:38.653076",
     "status": "completed"
    },
    "tags": []
   },
   "outputs": [],
   "source": [
    "test['joining_date']=test['joining_date'].apply(lambda x:int(x.split('-')[0]))"
   ]
  },
  {
   "cell_type": "code",
   "execution_count": 30,
   "metadata": {
    "execution": {
     "iopub.execute_input": "2021-03-27T12:38:38.761238Z",
     "iopub.status.busy": "2021-03-27T12:38:38.759567Z",
     "iopub.status.idle": "2021-03-27T12:38:38.761844Z",
     "shell.execute_reply": "2021-03-27T12:38:38.762234Z"
    },
    "papermill": {
     "duration": 0.032055,
     "end_time": "2021-03-27T12:38:38.762384",
     "exception": false,
     "start_time": "2021-03-27T12:38:38.730329",
     "status": "completed"
    },
    "tags": []
   },
   "outputs": [],
   "source": [
    "test.rename(columns={'joining_date':'joining_year'},inplace=True)"
   ]
  },
  {
   "cell_type": "code",
   "execution_count": 31,
   "metadata": {
    "execution": {
     "iopub.execute_input": "2021-03-27T12:38:38.817777Z",
     "iopub.status.busy": "2021-03-27T12:38:38.817223Z",
     "iopub.status.idle": "2021-03-27T12:38:38.853643Z",
     "shell.execute_reply": "2021-03-27T12:38:38.852930Z"
    },
    "papermill": {
     "duration": 0.066161,
     "end_time": "2021-03-27T12:38:38.853760",
     "exception": false,
     "start_time": "2021-03-27T12:38:38.787599",
     "status": "completed"
    },
    "tags": []
   },
   "outputs": [],
   "source": [
    "test1=pd.get_dummies(test,drop_first=True)"
   ]
  },
  {
   "cell_type": "code",
   "execution_count": 32,
   "metadata": {
    "execution": {
     "iopub.execute_input": "2021-03-27T12:38:38.911318Z",
     "iopub.status.busy": "2021-03-27T12:38:38.910518Z",
     "iopub.status.idle": "2021-03-27T12:38:39.049872Z",
     "shell.execute_reply": "2021-03-27T12:38:39.050421Z"
    },
    "papermill": {
     "duration": 0.17086,
     "end_time": "2021-03-27T12:38:39.050613",
     "exception": false,
     "start_time": "2021-03-27T12:38:38.879753",
     "status": "completed"
    },
    "tags": []
   },
   "outputs": [],
   "source": [
    "result = model1.predict(test1)"
   ]
  },
  {
   "cell_type": "code",
   "execution_count": 33,
   "metadata": {
    "execution": {
     "iopub.execute_input": "2021-03-27T12:38:39.109842Z",
     "iopub.status.busy": "2021-03-27T12:38:39.109097Z",
     "iopub.status.idle": "2021-03-27T12:38:39.206639Z",
     "shell.execute_reply": "2021-03-27T12:38:39.206071Z"
    },
    "papermill": {
     "duration": 0.128151,
     "end_time": "2021-03-27T12:38:39.206767",
     "exception": false,
     "start_time": "2021-03-27T12:38:39.078616",
     "status": "completed"
    },
    "tags": []
   },
   "outputs": [],
   "source": [
    "test1 =pd.read_csv('../input/hackerearth-how-not-to-lose-a-customer-in-10-days/test.csv',na_values=['?','-999','Error','xxxxxxxx'])"
   ]
  },
  {
   "cell_type": "code",
   "execution_count": 34,
   "metadata": {
    "execution": {
     "iopub.execute_input": "2021-03-27T12:38:39.264969Z",
     "iopub.status.busy": "2021-03-27T12:38:39.263548Z",
     "iopub.status.idle": "2021-03-27T12:38:39.265987Z",
     "shell.execute_reply": "2021-03-27T12:38:39.266431Z"
    },
    "papermill": {
     "duration": 0.033483,
     "end_time": "2021-03-27T12:38:39.266563",
     "exception": false,
     "start_time": "2021-03-27T12:38:39.233080",
     "status": "completed"
    },
    "tags": []
   },
   "outputs": [],
   "source": [
    "submission = pd.DataFrame({\n",
    "    'customer_id': test1['customer_id'],\n",
    "    'churn_risk_score': result,\n",
    "})"
   ]
  },
  {
   "cell_type": "code",
   "execution_count": 35,
   "metadata": {
    "execution": {
     "iopub.execute_input": "2021-03-27T12:38:39.323061Z",
     "iopub.status.busy": "2021-03-27T12:38:39.322247Z",
     "iopub.status.idle": "2021-03-27T12:38:39.327973Z",
     "shell.execute_reply": "2021-03-27T12:38:39.327481Z"
    },
    "papermill": {
     "duration": 0.035057,
     "end_time": "2021-03-27T12:38:39.328092",
     "exception": false,
     "start_time": "2021-03-27T12:38:39.293035",
     "status": "completed"
    },
    "tags": []
   },
   "outputs": [
    {
     "name": "stdout",
     "output_type": "stream",
     "text": [
      "5    7853\n",
      "3    5164\n",
      "4    3892\n",
      "1    1979\n",
      "2    1031\n",
      "Name: churn_risk_score, dtype: int64\n"
     ]
    }
   ],
   "source": [
    "print(submission['churn_risk_score'].value_counts())"
   ]
  },
  {
   "cell_type": "code",
   "execution_count": 36,
   "metadata": {
    "execution": {
     "iopub.execute_input": "2021-03-27T12:38:39.384130Z",
     "iopub.status.busy": "2021-03-27T12:38:39.383660Z",
     "iopub.status.idle": "2021-03-27T12:38:39.665692Z",
     "shell.execute_reply": "2021-03-27T12:38:39.665181Z"
    },
    "papermill": {
     "duration": 0.311648,
     "end_time": "2021-03-27T12:38:39.665813",
     "exception": false,
     "start_time": "2021-03-27T12:38:39.354165",
     "status": "completed"
    },
    "tags": []
   },
   "outputs": [],
   "source": [
    "submission.to_csv('sub.csv', index=False)"
   ]
  },
  {
   "cell_type": "code",
   "execution_count": null,
   "metadata": {
    "papermill": {
     "duration": 0.026605,
     "end_time": "2021-03-27T12:38:39.719257",
     "exception": false,
     "start_time": "2021-03-27T12:38:39.692652",
     "status": "completed"
    },
    "tags": []
   },
   "outputs": [],
   "source": []
  }
 ],
 "metadata": {
  "kernelspec": {
   "display_name": "Python 3",
   "language": "python",
   "name": "python3"
  },
  "language_info": {
   "codemirror_mode": {
    "name": "ipython",
    "version": 3
   },
   "file_extension": ".py",
   "mimetype": "text/x-python",
   "name": "python",
   "nbconvert_exporter": "python",
   "pygments_lexer": "ipython3",
   "version": "3.7.9"
  },
  "papermill": {
   "default_parameters": {},
   "duration": 32.401754,
   "end_time": "2021-03-27T12:38:40.955326",
   "environment_variables": {},
   "exception": null,
   "input_path": "__notebook__.ipynb",
   "output_path": "__notebook__.ipynb",
   "parameters": {},
   "start_time": "2021-03-27T12:38:08.553572",
   "version": "2.2.2"
  }
 },
 "nbformat": 4,
 "nbformat_minor": 4
}
