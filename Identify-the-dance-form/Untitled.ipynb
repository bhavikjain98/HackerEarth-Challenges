{
  "nbformat": 4,
  "nbformat_minor": 0,
  "metadata": {
    "colab": {
      "name": "Untitled",
      "provenance": [],
      "mount_file_id": "1teYqxMG5mHUYAZU6ZogoZcgvUE8Ya6lZ",
      "authorship_tag": "ABX9TyM6X5WSAvKSnAHhtzyMiHKn",
      "include_colab_link": true
    },
    "kernelspec": {
      "name": "python3",
      "display_name": "Python 3"
    },
    "accelerator": "GPU"
  },
  "cells": [
    {
      "cell_type": "markdown",
      "metadata": {
        "id": "view-in-github",
        "colab_type": "text"
      },
      "source": [
        "<a href=\"https://colab.research.google.com/github/bhavikjain98/Identify-the-dance-form/blob/master/Untitled.ipynb\" target=\"_parent\"><img src=\"https://colab.research.google.com/assets/colab-badge.svg\" alt=\"Open In Colab\"/></a>"
      ]
    },
    {
      "cell_type": "code",
      "metadata": {
        "id": "ljD4ORnDiV5v",
        "colab_type": "code",
        "colab": {}
      },
      "source": [
        "#!unzip '/content/drive/My Drive/0664343c9a8f11ea.zip' -d '/content/drive/My Drive/dataset'"
      ],
      "execution_count": 0,
      "outputs": []
    },
    {
      "cell_type": "code",
      "metadata": {
        "id": "3M4t1we7z9x5",
        "colab_type": "code",
        "colab": {
          "base_uri": "https://localhost:8080/",
          "height": 51
        },
        "outputId": "56346aa8-ad47-408b-caeb-849442dcb705"
      },
      "source": [
        "import os\n",
        "import pandas as pd\n",
        "import numpy as np\n",
        "import seaborn as sns\n",
        "import cv2\n",
        "from tqdm import tqdm\n",
        "import matplotlib.pyplot as plt"
      ],
      "execution_count": 2,
      "outputs": [
        {
          "output_type": "stream",
          "text": [
            "/usr/local/lib/python3.6/dist-packages/statsmodels/tools/_testing.py:19: FutureWarning: pandas.util.testing is deprecated. Use the functions in the public API at pandas.testing instead.\n",
            "  import pandas.util.testing as tm\n"
          ],
          "name": "stderr"
        }
      ]
    },
    {
      "cell_type": "code",
      "metadata": {
        "id": "IUTe7Tk4t00L",
        "colab_type": "code",
        "outputId": "71f8a90d-13e1-4599-a99f-3cba88154cc5",
        "colab": {
          "base_uri": "https://localhost:8080/",
          "height": 204
        }
      },
      "source": [
        "train = pd.read_csv('/content/drive/My Drive/dataset/dataset/train.csv')\n",
        "train.head()"
      ],
      "execution_count": 3,
      "outputs": [
        {
          "output_type": "execute_result",
          "data": {
            "text/html": [
              "<div>\n",
              "<style scoped>\n",
              "    .dataframe tbody tr th:only-of-type {\n",
              "        vertical-align: middle;\n",
              "    }\n",
              "\n",
              "    .dataframe tbody tr th {\n",
              "        vertical-align: top;\n",
              "    }\n",
              "\n",
              "    .dataframe thead th {\n",
              "        text-align: right;\n",
              "    }\n",
              "</style>\n",
              "<table border=\"1\" class=\"dataframe\">\n",
              "  <thead>\n",
              "    <tr style=\"text-align: right;\">\n",
              "      <th></th>\n",
              "      <th>Image</th>\n",
              "      <th>target</th>\n",
              "    </tr>\n",
              "  </thead>\n",
              "  <tbody>\n",
              "    <tr>\n",
              "      <th>0</th>\n",
              "      <td>96.jpg</td>\n",
              "      <td>manipuri</td>\n",
              "    </tr>\n",
              "    <tr>\n",
              "      <th>1</th>\n",
              "      <td>163.jpg</td>\n",
              "      <td>bharatanatyam</td>\n",
              "    </tr>\n",
              "    <tr>\n",
              "      <th>2</th>\n",
              "      <td>450.jpg</td>\n",
              "      <td>odissi</td>\n",
              "    </tr>\n",
              "    <tr>\n",
              "      <th>3</th>\n",
              "      <td>219.jpg</td>\n",
              "      <td>kathakali</td>\n",
              "    </tr>\n",
              "    <tr>\n",
              "      <th>4</th>\n",
              "      <td>455.jpg</td>\n",
              "      <td>odissi</td>\n",
              "    </tr>\n",
              "  </tbody>\n",
              "</table>\n",
              "</div>"
            ],
            "text/plain": [
              "     Image         target\n",
              "0   96.jpg       manipuri\n",
              "1  163.jpg  bharatanatyam\n",
              "2  450.jpg         odissi\n",
              "3  219.jpg      kathakali\n",
              "4  455.jpg         odissi"
            ]
          },
          "metadata": {
            "tags": []
          },
          "execution_count": 3
        }
      ]
    },
    {
      "cell_type": "code",
      "metadata": {
        "id": "-uqFoP9kuUhw",
        "colab_type": "code",
        "outputId": "606c7397-42e7-4c2d-f0d8-704270f7707e",
        "colab": {
          "base_uri": "https://localhost:8080/",
          "height": 170
        }
      },
      "source": [
        "train['target'].value_counts()"
      ],
      "execution_count": 4,
      "outputs": [
        {
          "output_type": "execute_result",
          "data": {
            "text/plain": [
              "mohiniyattam     50\n",
              "odissi           49\n",
              "bharatanatyam    47\n",
              "kathakali        47\n",
              "kuchipudi        46\n",
              "sattriya         45\n",
              "kathak           44\n",
              "manipuri         36\n",
              "Name: target, dtype: int64"
            ]
          },
          "metadata": {
            "tags": []
          },
          "execution_count": 4
        }
      ]
    },
    {
      "cell_type": "code",
      "metadata": {
        "id": "0wKFqjDN0Mye",
        "colab_type": "code",
        "colab": {}
      },
      "source": [
        "test = pd.read_csv('/content/drive/My Drive/dataset/dataset/test.csv')"
      ],
      "execution_count": 0,
      "outputs": []
    },
    {
      "cell_type": "code",
      "metadata": {
        "id": "YpmFDvmO3J-9",
        "colab_type": "code",
        "colab": {}
      },
      "source": [
        "Class_map={'manipuri':0,'kathak':1,'sattriya':2,'kuchipudi':3,'kathakali':4,'bharatanatyam':5,'odissi':6,'mohiniyattam':7}\n",
        "inverse_map={0:'manipuri',1:'kathak',2:'sattriya',3:'kuchipudi',4:'kathakali',5:'bharatanatyam',6:'odissi',7:'mohiniyattam'}\n",
        "train['target']=train['target'].map(Class_map)"
      ],
      "execution_count": 0,
      "outputs": []
    },
    {
      "cell_type": "code",
      "metadata": {
        "id": "3j_DKRKIuZT4",
        "colab_type": "code",
        "colab": {
          "base_uri": "https://localhost:8080/",
          "height": 34
        },
        "outputId": "244fd459-b109-43f6-8158-efdaaadc09ef"
      },
      "source": [
        "train_img=[]\n",
        "train_label=[]\n",
        "j=0\n",
        "path='/content/drive/My Drive/dataset/dataset/train'\n",
        "for i in tqdm(train['Image']):\n",
        "    final_path=os.path.join(path,i)\n",
        "    img=cv2.imread(final_path)\n",
        "    img=cv2.resize(img,(224,224))\n",
        "    img=img.astype('float32')\n",
        "    train_img.append(img)\n",
        "    train_label.append(train['target'][j])\n",
        "    j=j+1"
      ],
      "execution_count": 7,
      "outputs": [
        {
          "output_type": "stream",
          "text": [
            "100%|██████████| 364/364 [00:02<00:00, 125.74it/s]\n"
          ],
          "name": "stderr"
        }
      ]
    },
    {
      "cell_type": "code",
      "metadata": {
        "id": "yNaGrMSvz2pm",
        "colab_type": "code",
        "colab": {
          "base_uri": "https://localhost:8080/",
          "height": 34
        },
        "outputId": "ef71ba1c-35c1-426d-c8df-6b5c24b29f94"
      },
      "source": [
        "test_img=[]\n",
        "path='/content/drive/My Drive/dataset/dataset/test'\n",
        "for i in tqdm(test['Image']):\n",
        "    final_path=os.path.join(path,i)\n",
        "    img=cv2.imread(final_path)\n",
        "    img=cv2.resize(img,(224,224))\n",
        "    img=img.astype('float32')\n",
        "    test_img.append(img)"
      ],
      "execution_count": 8,
      "outputs": [
        {
          "output_type": "stream",
          "text": [
            "100%|██████████| 156/156 [00:01<00:00, 124.50it/s]\n"
          ],
          "name": "stderr"
        }
      ]
    },
    {
      "cell_type": "code",
      "metadata": {
        "id": "-5lcUMjg0KXE",
        "colab_type": "code",
        "colab": {}
      },
      "source": [
        "from tensorflow.keras.preprocessing.image import ImageDataGenerator\n",
        "datagenerator = ImageDataGenerator(\n",
        "        featurewise_center=False,  \n",
        "        samplewise_center=False,  \n",
        "        featurewise_std_normalization=False,  \n",
        "        samplewise_std_normalization=False,  \n",
        "        rotation_range=10,  \n",
        "        zoom_range = 0.10,  \n",
        "        width_shift_range=0.10,  \n",
        "        height_shift_range=0.10,  \n",
        "        horizontal_flip=True,  \n",
        "        vertical_flip=False) \n",
        "\n",
        "\n",
        "datagenerator.fit(train_img)"
      ],
      "execution_count": 0,
      "outputs": []
    },
    {
      "cell_type": "code",
      "metadata": {
        "id": "YHOtGVck0Vnf",
        "colab_type": "code",
        "colab": {
          "base_uri": "https://localhost:8080/",
          "height": 68
        },
        "outputId": "56986011-cb79-4cf0-eb83-03ac9c260c44"
      },
      "source": [
        "train_img=np.array(train_img)\n",
        "test_img=np.array(test_img)\n",
        "train_label=np.array(train_label)\n",
        "print(train_img.shape)\n",
        "print(test_img.shape)\n",
        "print(train_label.shape)"
      ],
      "execution_count": 10,
      "outputs": [
        {
          "output_type": "stream",
          "text": [
            "(364, 224, 224, 3)\n",
            "(156, 224, 224, 3)\n",
            "(364,)\n"
          ],
          "name": "stdout"
        }
      ]
    },
    {
      "cell_type": "code",
      "metadata": {
        "id": "PWukPE2X0ZZT",
        "colab_type": "code",
        "colab": {
          "base_uri": "https://localhost:8080/",
          "height": 34
        },
        "outputId": "9ee3d58d-90a8-4fb7-be6e-d5c5dd41327c"
      },
      "source": [
        "from tensorflow.keras.applications.vgg16 import VGG16\n",
        "\n",
        "from tensorflow.keras.layers import Flatten,Dense,Dropout,BatchNormalization\n",
        "from tensorflow.keras.models import Model,Sequential\n",
        "from tensorflow.keras.utils import to_categorical\n",
        "from keras.layers import Conv2D, MaxPooling2D, BatchNormalization\n",
        "\n",
        "from tensorflow.keras.callbacks import ReduceLROnPlateau"
      ],
      "execution_count": 11,
      "outputs": [
        {
          "output_type": "stream",
          "text": [
            "Using TensorFlow backend.\n"
          ],
          "name": "stderr"
        }
      ]
    },
    {
      "cell_type": "code",
      "metadata": {
        "id": "hQPb_LE50lhe",
        "colab_type": "code",
        "colab": {}
      },
      "source": [
        "from keras.applications import VGG19\n",
        "from keras.applications.vgg19 import preprocess_input\n",
        "from keras.layers import *\n",
        "from keras.models import Sequential\n",
        "vgg19 = VGG19(weights='imagenet', include_top=False, input_shape = (224, 224, 3),pooling='avg')\n",
        "vgg19.trainable = False\n",
        "\n",
        "model = Sequential([\n",
        "  vgg19, \n",
        "  Dense(1024, activation='relu'),\n",
        "  Dropout(0.4),\n",
        "  Dense(256, activation='relu'),\n",
        "  Dense(8, activation='softmax'),\n",
        "])"
      ],
      "execution_count": 0,
      "outputs": []
    },
    {
      "cell_type": "code",
      "metadata": {
        "id": "zrw-kNd20q3S",
        "colab_type": "code",
        "colab": {
          "base_uri": "https://localhost:8080/",
          "height": 1000
        },
        "outputId": "d9ffc748-f0dd-4525-b38c-f2bfa31ff1bd"
      },
      "source": [
        "from keras.optimizers import Adam,SGD,Adagrad,Adadelta,RMSprop\n",
        "\n",
        "vgg19.trainable=False\n",
        "\n",
        "reduce_learning_rate = ReduceLROnPlateau(monitor='loss',\n",
        "                                         factor=0.1,\n",
        "                                         patience=2,\n",
        "                                         cooldown=2,\n",
        "                                         min_lr=0.00001,\n",
        "                                         verbose=1)\n",
        "\n",
        "callbacks = [reduce_learning_rate]\n",
        "    \n",
        "\n",
        "\n",
        "model.compile( optimizer='adam',loss='categorical_crossentropy',metrics=['accuracy'])\n",
        "model.fit_generator(datagenerator.flow(train_img, to_categorical(train_label,8), batch_size=64),\n",
        "                    epochs=30,callbacks=callbacks)\n"
      ],
      "execution_count": 18,
      "outputs": [
        {
          "output_type": "stream",
          "text": [
            "Epoch 1/30\n",
            "6/6 [==============================] - 5s 774ms/step - loss: 6.0893 - accuracy: 0.2088\n",
            "Epoch 2/30\n",
            "6/6 [==============================] - 5s 755ms/step - loss: 2.2160 - accuracy: 0.4258\n",
            "Epoch 3/30\n",
            "6/6 [==============================] - 4s 739ms/step - loss: 1.6118 - accuracy: 0.5385\n",
            "Epoch 4/30\n",
            "6/6 [==============================] - 5s 753ms/step - loss: 1.0726 - accuracy: 0.6209\n",
            "Epoch 5/30\n",
            "6/6 [==============================] - 4s 739ms/step - loss: 0.8812 - accuracy: 0.6923\n",
            "Epoch 6/30\n",
            "6/6 [==============================] - 5s 755ms/step - loss: 0.6833 - accuracy: 0.7692\n",
            "Epoch 7/30\n",
            "6/6 [==============================] - 4s 737ms/step - loss: 0.5550 - accuracy: 0.7967\n",
            "Epoch 8/30\n",
            "6/6 [==============================] - 4s 737ms/step - loss: 0.4772 - accuracy: 0.8269\n",
            "Epoch 9/30\n",
            "6/6 [==============================] - 4s 732ms/step - loss: 0.4285 - accuracy: 0.8489\n",
            "Epoch 10/30\n",
            "6/6 [==============================] - 4s 736ms/step - loss: 0.3565 - accuracy: 0.8736\n",
            "Epoch 11/30\n",
            "6/6 [==============================] - 4s 738ms/step - loss: 0.2664 - accuracy: 0.9148\n",
            "Epoch 12/30\n",
            "6/6 [==============================] - 5s 764ms/step - loss: 0.3263 - accuracy: 0.8956\n",
            "Epoch 13/30\n",
            "6/6 [==============================] - 5s 756ms/step - loss: 0.2640 - accuracy: 0.9066\n",
            "Epoch 14/30\n",
            "6/6 [==============================] - 4s 743ms/step - loss: 0.1652 - accuracy: 0.9505\n",
            "Epoch 15/30\n",
            "6/6 [==============================] - 4s 735ms/step - loss: 0.1479 - accuracy: 0.9560\n",
            "Epoch 16/30\n",
            "6/6 [==============================] - 5s 756ms/step - loss: 0.2023 - accuracy: 0.9258\n",
            "Epoch 17/30\n",
            "6/6 [==============================] - 4s 747ms/step - loss: 0.1675 - accuracy: 0.9505\n",
            "\n",
            "Epoch 00017: ReduceLROnPlateau reducing learning rate to 0.00010000000474974513.\n",
            "Epoch 18/30\n",
            "6/6 [==============================] - 4s 742ms/step - loss: 0.1119 - accuracy: 0.9560\n",
            "Epoch 19/30\n",
            "6/6 [==============================] - 4s 744ms/step - loss: 0.1213 - accuracy: 0.9560\n",
            "Epoch 20/30\n",
            "6/6 [==============================] - 5s 761ms/step - loss: 0.0833 - accuracy: 0.9725\n",
            "Epoch 21/30\n",
            "6/6 [==============================] - 4s 741ms/step - loss: 0.0883 - accuracy: 0.9890\n",
            "Epoch 22/30\n",
            "6/6 [==============================] - 5s 761ms/step - loss: 0.0839 - accuracy: 0.9753\n",
            "\n",
            "Epoch 00022: ReduceLROnPlateau reducing learning rate to 1.0000000474974514e-05.\n",
            "Epoch 23/30\n",
            "6/6 [==============================] - 4s 745ms/step - loss: 0.0794 - accuracy: 0.9780\n",
            "Epoch 24/30\n",
            "6/6 [==============================] - 4s 734ms/step - loss: 0.0703 - accuracy: 0.9890\n",
            "Epoch 25/30\n",
            "6/6 [==============================] - 4s 749ms/step - loss: 0.0884 - accuracy: 0.9780\n",
            "Epoch 26/30\n",
            "6/6 [==============================] - 4s 736ms/step - loss: 0.0848 - accuracy: 0.9753\n",
            "\n",
            "Epoch 00026: ReduceLROnPlateau reducing learning rate to 1e-05.\n",
            "Epoch 27/30\n",
            "6/6 [==============================] - 4s 738ms/step - loss: 0.0771 - accuracy: 0.9780\n",
            "Epoch 28/30\n",
            "6/6 [==============================] - 5s 752ms/step - loss: 0.1047 - accuracy: 0.9615\n",
            "Epoch 29/30\n",
            "6/6 [==============================] - 4s 742ms/step - loss: 0.0910 - accuracy: 0.9698\n",
            "Epoch 30/30\n",
            "6/6 [==============================] - 4s 741ms/step - loss: 0.0958 - accuracy: 0.9780\n"
          ],
          "name": "stdout"
        },
        {
          "output_type": "execute_result",
          "data": {
            "text/plain": [
              "<keras.callbacks.callbacks.History at 0x7ff8e19bceb8>"
            ]
          },
          "metadata": {
            "tags": []
          },
          "execution_count": 18
        }
      ]
    },
    {
      "cell_type": "code",
      "metadata": {
        "id": "5nxP3b6_02U2",
        "colab_type": "code",
        "colab": {}
      },
      "source": [
        "labels = model.predict(test_img)\n",
        "label = [np.argmax(i) for i in labels]\n",
        "class_label = [inverse_map[x] for x in label]\n",
        "submission = pd.DataFrame({ 'Image': test.Image, 'target': class_label })\n",
        "submission.to_csv('result.csv', index=False)"
      ],
      "execution_count": 0,
      "outputs": []
    },
    {
      "cell_type": "code",
      "metadata": {
        "id": "_w-EQxpi44GB",
        "colab_type": "code",
        "colab": {}
      },
      "source": [
        ""
      ],
      "execution_count": 0,
      "outputs": []
    }
  ]
}