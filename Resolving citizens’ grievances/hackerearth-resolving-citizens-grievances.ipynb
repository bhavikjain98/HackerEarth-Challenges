{
 "cells": [
  {
   "cell_type": "code",
   "execution_count": 1,
   "metadata": {
    "_cell_guid": "79c7e3d0-c299-4dcb-8224-4455121ee9b0",
    "_uuid": "d629ff2d2480ee46fbb7e2d37f6b5fab8052498a",
    "execution": {
     "iopub.execute_input": "2021-01-14T11:15:00.373055Z",
     "iopub.status.busy": "2021-01-14T11:15:00.372288Z",
     "iopub.status.idle": "2021-01-14T11:15:01.151838Z",
     "shell.execute_reply": "2021-01-14T11:15:01.150382Z"
    },
    "papermill": {
     "duration": 0.803273,
     "end_time": "2021-01-14T11:15:01.151959",
     "exception": false,
     "start_time": "2021-01-14T11:15:00.348686",
     "status": "completed"
    },
    "tags": []
   },
   "outputs": [],
   "source": [
    "import pandas as pd\n",
    "import numpy as np\n",
    "from sklearn import preprocessing"
   ]
  },
  {
   "cell_type": "code",
   "execution_count": 2,
   "metadata": {
    "execution": {
     "iopub.execute_input": "2021-01-14T11:15:01.201102Z",
     "iopub.status.busy": "2021-01-14T11:15:01.200488Z",
     "iopub.status.idle": "2021-01-14T11:15:01.904237Z",
     "shell.execute_reply": "2021-01-14T11:15:01.904701Z"
    },
    "papermill": {
     "duration": 0.735287,
     "end_time": "2021-01-14T11:15:01.904827",
     "exception": false,
     "start_time": "2021-01-14T11:15:01.169540",
     "status": "completed"
    },
    "tags": []
   },
   "outputs": [
    {
     "name": "stderr",
     "output_type": "stream",
     "text": [
      "/opt/conda/lib/python3.7/site-packages/IPython/core/interactiveshell.py:3063: DtypeWarning: Columns (16,17,18,19,20,22,23,24,25,26,27,28,45,49,50,51) have mixed types.Specify dtype option on import or set low_memory=False.\n",
      "  interactivity=interactivity, compiler=compiler, result=result)\n",
      "/opt/conda/lib/python3.7/site-packages/IPython/core/interactiveshell.py:3063: DtypeWarning: Columns (14,15,16,17,18,19,20,22,23,24,25,49,50,51) have mixed types.Specify dtype option on import or set low_memory=False.\n",
      "  interactivity=interactivity, compiler=compiler, result=result)\n"
     ]
    },
    {
     "data": {
      "text/html": [
       "<div>\n",
       "<style scoped>\n",
       "    .dataframe tbody tr th:only-of-type {\n",
       "        vertical-align: middle;\n",
       "    }\n",
       "\n",
       "    .dataframe tbody tr th {\n",
       "        vertical-align: top;\n",
       "    }\n",
       "\n",
       "    .dataframe thead th {\n",
       "        text-align: right;\n",
       "    }\n",
       "</style>\n",
       "<table border=\"1\" class=\"dataframe\">\n",
       "  <thead>\n",
       "    <tr style=\"text-align: right;\">\n",
       "      <th></th>\n",
       "      <th>appno</th>\n",
       "      <th>application</th>\n",
       "      <th>country.alpha2</th>\n",
       "      <th>country.name</th>\n",
       "      <th>decisiondate</th>\n",
       "      <th>docname</th>\n",
       "      <th>doctypebranch</th>\n",
       "      <th>ecli</th>\n",
       "      <th>introductiondate</th>\n",
       "      <th>issue.0</th>\n",
       "      <th>...</th>\n",
       "      <th>ccl_article=6</th>\n",
       "      <th>ccl_article=7</th>\n",
       "      <th>ccl_article=8</th>\n",
       "      <th>ccl_article=9</th>\n",
       "      <th>ccl_article=p1</th>\n",
       "      <th>ccl_article=p12</th>\n",
       "      <th>ccl_article=p4</th>\n",
       "      <th>ccl_article=p6</th>\n",
       "      <th>ccl_article=p7</th>\n",
       "      <th>importance</th>\n",
       "    </tr>\n",
       "  </thead>\n",
       "  <tbody>\n",
       "    <tr>\n",
       "      <th>0</th>\n",
       "      <td>2052/08</td>\n",
       "      <td>MS WORD</td>\n",
       "      <td>ru</td>\n",
       "      <td>Russian Federation</td>\n",
       "      <td>NaN</td>\n",
       "      <td>CASE OF KOKOSHKINA v. RUSSIA</td>\n",
       "      <td>CHAMBER</td>\n",
       "      <td>ECLI:CE:ECHR:2009:0528JUD000205208</td>\n",
       "      <td>NaN</td>\n",
       "      <td>NaN</td>\n",
       "      <td>...</td>\n",
       "      <td>0</td>\n",
       "      <td>0</td>\n",
       "      <td>0</td>\n",
       "      <td>0</td>\n",
       "      <td>0</td>\n",
       "      <td>0</td>\n",
       "      <td>0</td>\n",
       "      <td>0</td>\n",
       "      <td>0</td>\n",
       "      <td>4</td>\n",
       "    </tr>\n",
       "    <tr>\n",
       "      <th>1</th>\n",
       "      <td>4728/07</td>\n",
       "      <td>MS WORD</td>\n",
       "      <td>tr</td>\n",
       "      <td>Turkey</td>\n",
       "      <td>NaN</td>\n",
       "      <td>CASE OF ÖZCAN v. TURKEY</td>\n",
       "      <td>COMMITTEE</td>\n",
       "      <td>ECLI:CE:ECHR:2018:0710JUD000472807</td>\n",
       "      <td>NaN</td>\n",
       "      <td>NaN</td>\n",
       "      <td>...</td>\n",
       "      <td>0</td>\n",
       "      <td>0</td>\n",
       "      <td>0</td>\n",
       "      <td>0</td>\n",
       "      <td>0</td>\n",
       "      <td>0</td>\n",
       "      <td>0</td>\n",
       "      <td>0</td>\n",
       "      <td>0</td>\n",
       "      <td>4</td>\n",
       "    </tr>\n",
       "    <tr>\n",
       "      <th>2</th>\n",
       "      <td>44135/06</td>\n",
       "      <td>MS WORD</td>\n",
       "      <td>si</td>\n",
       "      <td>Slovenia</td>\n",
       "      <td>NaN</td>\n",
       "      <td>CASE OF DANIJEL PEČNIK v. SLOVENIA</td>\n",
       "      <td>CHAMBER</td>\n",
       "      <td>ECLI:CE:ECHR:2012:1018JUD004413506</td>\n",
       "      <td>NaN</td>\n",
       "      <td>NaN</td>\n",
       "      <td>...</td>\n",
       "      <td>1</td>\n",
       "      <td>0</td>\n",
       "      <td>0</td>\n",
       "      <td>0</td>\n",
       "      <td>0</td>\n",
       "      <td>0</td>\n",
       "      <td>0</td>\n",
       "      <td>0</td>\n",
       "      <td>0</td>\n",
       "      <td>4</td>\n",
       "    </tr>\n",
       "    <tr>\n",
       "      <th>3</th>\n",
       "      <td>2607/08</td>\n",
       "      <td>MS WORD</td>\n",
       "      <td>ch</td>\n",
       "      <td>Switzerland</td>\n",
       "      <td>NaN</td>\n",
       "      <td>CASE OF PALANCI v. SWITZERLAND</td>\n",
       "      <td>CHAMBER</td>\n",
       "      <td>ECLI:CE:ECHR:2014:0325JUD000260708</td>\n",
       "      <td>NaN</td>\n",
       "      <td>NaN</td>\n",
       "      <td>...</td>\n",
       "      <td>0</td>\n",
       "      <td>0</td>\n",
       "      <td>-1</td>\n",
       "      <td>0</td>\n",
       "      <td>0</td>\n",
       "      <td>0</td>\n",
       "      <td>0</td>\n",
       "      <td>0</td>\n",
       "      <td>0</td>\n",
       "      <td>4</td>\n",
       "    </tr>\n",
       "    <tr>\n",
       "      <th>4</th>\n",
       "      <td>27001/06</td>\n",
       "      <td>MS WORD</td>\n",
       "      <td>ru</td>\n",
       "      <td>Russian Federation</td>\n",
       "      <td>NaN</td>\n",
       "      <td>CASE OF AMANAT ILYASOVA AND OTHERS v. RUSSIA</td>\n",
       "      <td>CHAMBER</td>\n",
       "      <td>ECLI:CE:ECHR:2009:1001JUD002700106</td>\n",
       "      <td>NaN</td>\n",
       "      <td>NaN</td>\n",
       "      <td>...</td>\n",
       "      <td>0</td>\n",
       "      <td>0</td>\n",
       "      <td>0</td>\n",
       "      <td>0</td>\n",
       "      <td>0</td>\n",
       "      <td>0</td>\n",
       "      <td>0</td>\n",
       "      <td>0</td>\n",
       "      <td>0</td>\n",
       "      <td>4</td>\n",
       "    </tr>\n",
       "  </tbody>\n",
       "</table>\n",
       "<p>5 rows × 328 columns</p>\n",
       "</div>"
      ],
      "text/plain": [
       "      appno application country.alpha2        country.name decisiondate  \\\n",
       "0   2052/08     MS WORD             ru  Russian Federation          NaN   \n",
       "1   4728/07     MS WORD             tr              Turkey          NaN   \n",
       "2  44135/06     MS WORD             si            Slovenia          NaN   \n",
       "3   2607/08     MS WORD             ch         Switzerland          NaN   \n",
       "4  27001/06     MS WORD             ru  Russian Federation          NaN   \n",
       "\n",
       "                                        docname doctypebranch  \\\n",
       "0                  CASE OF KOKOSHKINA v. RUSSIA       CHAMBER   \n",
       "1                       CASE OF ÖZCAN v. TURKEY     COMMITTEE   \n",
       "2            CASE OF DANIJEL PEČNIK v. SLOVENIA       CHAMBER   \n",
       "3                CASE OF PALANCI v. SWITZERLAND       CHAMBER   \n",
       "4  CASE OF AMANAT ILYASOVA AND OTHERS v. RUSSIA       CHAMBER   \n",
       "\n",
       "                                 ecli introductiondate issue.0  ...  \\\n",
       "0  ECLI:CE:ECHR:2009:0528JUD000205208              NaN     NaN  ...   \n",
       "1  ECLI:CE:ECHR:2018:0710JUD000472807              NaN     NaN  ...   \n",
       "2  ECLI:CE:ECHR:2012:1018JUD004413506              NaN     NaN  ...   \n",
       "3  ECLI:CE:ECHR:2014:0325JUD000260708              NaN     NaN  ...   \n",
       "4  ECLI:CE:ECHR:2009:1001JUD002700106              NaN     NaN  ...   \n",
       "\n",
       "  ccl_article=6 ccl_article=7 ccl_article=8 ccl_article=9 ccl_article=p1  \\\n",
       "0             0             0             0             0              0   \n",
       "1             0             0             0             0              0   \n",
       "2             1             0             0             0              0   \n",
       "3             0             0            -1             0              0   \n",
       "4             0             0             0             0              0   \n",
       "\n",
       "  ccl_article=p12 ccl_article=p4 ccl_article=p6 ccl_article=p7 importance  \n",
       "0               0              0              0              0          4  \n",
       "1               0              0              0              0          4  \n",
       "2               0              0              0              0          4  \n",
       "3               0              0              0              0          4  \n",
       "4               0              0              0              0          4  \n",
       "\n",
       "[5 rows x 328 columns]"
      ]
     },
     "execution_count": 2,
     "metadata": {},
     "output_type": "execute_result"
    }
   ],
   "source": [
    "train = pd.read_csv('../input/resolving-citizens-grievances-v1/dataset/train.csv')\n",
    "test = pd.read_csv('../input/resolving-citizens-grievances-v1/dataset/test.csv')\n",
    "train.head()"
   ]
  },
  {
   "cell_type": "code",
   "execution_count": 3,
   "metadata": {
    "execution": {
     "iopub.execute_input": "2021-01-14T11:15:01.947742Z",
     "iopub.status.busy": "2021-01-14T11:15:01.947161Z",
     "iopub.status.idle": "2021-01-14T11:15:01.952889Z",
     "shell.execute_reply": "2021-01-14T11:15:01.952406Z"
    },
    "papermill": {
     "duration": 0.029021,
     "end_time": "2021-01-14T11:15:01.952987",
     "exception": false,
     "start_time": "2021-01-14T11:15:01.923966",
     "status": "completed"
    },
    "tags": []
   },
   "outputs": [
    {
     "data": {
      "text/plain": [
       "((8878, 328), (4760, 327))"
      ]
     },
     "execution_count": 3,
     "metadata": {},
     "output_type": "execute_result"
    }
   ],
   "source": [
    "train.shape, test.shape"
   ]
  },
  {
   "cell_type": "code",
   "execution_count": 4,
   "metadata": {
    "execution": {
     "iopub.execute_input": "2021-01-14T11:15:01.999369Z",
     "iopub.status.busy": "2021-01-14T11:15:01.998425Z",
     "iopub.status.idle": "2021-01-14T11:15:02.066632Z",
     "shell.execute_reply": "2021-01-14T11:15:02.067128Z"
    },
    "papermill": {
     "duration": 0.095279,
     "end_time": "2021-01-14T11:15:02.067262",
     "exception": false,
     "start_time": "2021-01-14T11:15:01.971983",
     "status": "completed"
    },
    "tags": []
   },
   "outputs": [
    {
     "data": {
      "text/plain": [
       "(13638, 329)"
      ]
     },
     "execution_count": 4,
     "metadata": {},
     "output_type": "execute_result"
    }
   ],
   "source": [
    "# combining test and train to do feature engineering.\n",
    "test['importance']=-1\n",
    "train['label'] = 'train'\n",
    "test['label'] = 'test'\n",
    "combined = pd.concat([train,test],axis=0)\n",
    "combined.shape"
   ]
  },
  {
   "cell_type": "code",
   "execution_count": 5,
   "metadata": {
    "execution": {
     "iopub.execute_input": "2021-01-14T11:15:02.113562Z",
     "iopub.status.busy": "2021-01-14T11:15:02.112686Z",
     "iopub.status.idle": "2021-01-14T11:15:02.628876Z",
     "shell.execute_reply": "2021-01-14T11:15:02.629541Z"
    },
    "papermill": {
     "duration": 0.542925,
     "end_time": "2021-01-14T11:15:02.629704",
     "exception": false,
     "start_time": "2021-01-14T11:15:02.086779",
     "status": "completed"
    },
    "tags": []
   },
   "outputs": [
    {
     "name": "stdout",
     "output_type": "stream",
     "text": [
      "appno unique values->  13467 null values-->  0\n",
      "application unique values->  1 null values-->  0\n",
      "country.alpha2 unique values->  46 null values-->  0\n",
      "country.name unique values->  46 null values-->  0\n",
      "decisiondate unique values->  274 null values-->  12603\n",
      "docname unique values->  13201 null values-->  0\n",
      "doctypebranch unique values->  3 null values-->  0\n",
      "ecli unique values->  13638 null values-->  0\n",
      "introductiondate unique values->  720 null values-->  12602\n",
      "issue.0 unique values->  3095 null values-->  10162\n",
      "issue.1 unique values->  1710 null values-->  11780\n",
      "issue.10 unique values->  29 null values-->  13609\n",
      "issue.11 unique values->  25 null values-->  13613\n",
      "issue.12 unique values->  21 null values-->  13617\n",
      "issue.13 unique values->  16 null values-->  13622\n",
      "issue.14 unique values->  14 null values-->  13624\n",
      "issue.15 unique values->  11 null values-->  13627\n",
      "issue.16 unique values->  7 null values-->  13631\n",
      "issue.17 unique values->  5 null values-->  13633\n",
      "issue.18 unique values->  4 null values-->  13634\n",
      "issue.19 unique values->  4 null values-->  13634\n",
      "issue.2 unique values->  918 null values-->  12641\n",
      "issue.20 unique values->  4 null values-->  13634\n",
      "issue.21 unique values->  3 null values-->  13635\n",
      "issue.22 unique values->  3 null values-->  13635\n",
      "issue.23 unique values->  3 null values-->  13635\n",
      "issue.24 unique values->  1 null values-->  13637\n",
      "issue.25 unique values->  1 null values-->  13637\n",
      "issue.26 unique values->  1 null values-->  13637\n",
      "issue.3 unique values->  533 null values-->  13061\n",
      "issue.4 unique values->  306 null values-->  13321\n",
      "issue.5 unique values->  186 null values-->  13449\n",
      "issue.6 unique values->  117 null values-->  13521\n",
      "issue.7 unique values->  84 null values-->  13554\n",
      "issue.8 unique values->  47 null values-->  13591\n",
      "issue.9 unique values->  35 null values-->  13603\n",
      "itemid unique values->  13638 null values-->  0\n",
      "judgementdate unique values->  2088 null values-->  0\n",
      "kpdate unique values->  2088 null values-->  0\n",
      "languageisocode unique values->  1 null values-->  0\n",
      "originatingbody unique values->  13 null values-->  0\n",
      "originatingbody_name unique values->  13 null values-->  0\n",
      "originatingbody_type unique values->  1 null values-->  0\n",
      "parties.0 unique values->  12535 null values-->  0\n",
      "parties.1 unique values->  107 null values-->  6\n",
      "parties.2 unique values->  1 null values-->  13637\n",
      "rank unique values->  6484 null values-->  0\n",
      "respondent.0 unique values->  46 null values-->  0\n",
      "respondent.1 unique values->  17 null values-->  13581\n",
      "respondent.2 unique values->  2 null values-->  13635\n",
      "respondent.3 unique values->  1 null values-->  13636\n",
      "respondent.4 unique values->  1 null values-->  13636\n",
      "respondentOrderEng unique values->  46 null values-->  0\n",
      "separateopinion unique values->  2 null values-->  0\n",
      "sharepointid unique values->  13638 null values-->  0\n",
      "typedescription unique values->  5 null values-->  0\n",
      "article=3 unique values->  2 null values-->  0\n",
      "article=6 unique values->  2 null values-->  0\n",
      "article=P1 unique values->  2 null values-->  0\n",
      "article=5 unique values->  2 null values-->  0\n",
      "article=8 unique values->  2 null values-->  0\n",
      "article=13 unique values->  2 null values-->  0\n",
      "article=10 unique values->  2 null values-->  0\n",
      "article=2 unique values->  2 null values-->  0\n",
      "article=34 unique values->  2 null values-->  0\n",
      "article=41 unique values->  2 null values-->  0\n",
      "article=38 unique values->  2 null values-->  0\n",
      "article=35 unique values->  2 null values-->  0\n",
      "article=4 unique values->  2 null values-->  0\n",
      "article=29 unique values->  2 null values-->  0\n",
      "article=14 unique values->  2 null values-->  0\n",
      "article=P12 unique values->  2 null values-->  0\n",
      "article=9 unique values->  2 null values-->  0\n",
      "article=1 unique values->  2 null values-->  0\n",
      "article=11 unique values->  2 null values-->  0\n",
      "article=46 unique values->  2 null values-->  0\n",
      "article=P4 unique values->  2 null values-->  0\n",
      "article=17 unique values->  2 null values-->  0\n",
      "article=18 unique values->  2 null values-->  0\n",
      "article=7 unique values->  2 null values-->  0\n",
      "article= unique values->  2 null values-->  0\n",
      "article=37 unique values->  2 null values-->  0\n",
      "article=P7 unique values->  2 null values-->  0\n",
      "article=57 unique values->  2 null values-->  0\n",
      "article=26 unique values->  2 null values-->  0\n",
      "article=27 unique values->  2 null values-->  0\n",
      "article=36 unique values->  2 null values-->  0\n",
      "article=30 unique values->  2 null values-->  0\n",
      "article=12 unique values->  2 null values-->  0\n",
      "article=56 unique values->  2 null values-->  0\n",
      "article=39 unique values->  2 null values-->  0\n",
      "article=15 unique values->  2 null values-->  0\n",
      "article=25 unique values->  2 null values-->  0\n",
      "article=P6 unique values->  2 null values-->  0\n",
      "article=19 unique values->  2 null values-->  0\n",
      "article=32 unique values->  2 null values-->  0\n",
      "article=33 unique values->  2 null values-->  0\n",
      "article=53 unique values->  2 null values-->  0\n",
      "article=28 unique values->  2 null values-->  0\n",
      "article=43 unique values->  2 null values-->  0\n",
      "article=52 unique values->  2 null values-->  0\n",
      "article=P13 unique values->  2 null values-->  0\n",
      "article=16 unique values->  2 null values-->  0\n",
      "documentcollectionid=CASELAW unique values->  1 null values-->  0\n",
      "documentcollectionid=JUDGMENTS unique values->  1 null values-->  0\n",
      "documentcollectionid=CHAMBER unique values->  2 null values-->  0\n",
      "documentcollectionid=ENG unique values->  1 null values-->  0\n",
      "documentcollectionid=COMMITTEE unique values->  2 null values-->  0\n",
      "documentcollectionid=GRANDCHAMBER unique values->  2 null values-->  0\n",
      "applicability= unique values->  2 null values-->  0\n",
      "applicability=36 unique values->  2 null values-->  0\n",
      "applicability=43 unique values->  2 null values-->  0\n",
      "applicability=41 unique values->  2 null values-->  0\n",
      "applicability=55 unique values->  2 null values-->  0\n",
      "applicability=3 unique values->  2 null values-->  0\n",
      "applicability=22 unique values->  2 null values-->  0\n",
      "applicability=60 unique values->  2 null values-->  0\n",
      "applicability=58 unique values->  2 null values-->  0\n",
      "applicability=25 unique values->  2 null values-->  0\n",
      "applicability=47 unique values->  2 null values-->  0\n",
      "applicability=12 unique values->  2 null values-->  0\n",
      "applicability=38 unique values->  2 null values-->  0\n",
      "applicability=20 unique values->  2 null values-->  0\n",
      "applicability=18 unique values->  2 null values-->  0\n",
      "applicability=24 unique values->  2 null values-->  0\n",
      "applicability=62 unique values->  2 null values-->  0\n",
      "applicability=21 unique values->  2 null values-->  0\n",
      "applicability=23 unique values->  2 null values-->  0\n",
      "applicability=8 unique values->  2 null values-->  0\n",
      "applicability=26 unique values->  2 null values-->  0\n",
      "applicability=53 unique values->  2 null values-->  0\n",
      "applicability=15 unique values->  2 null values-->  0\n",
      "applicability=48 unique values->  2 null values-->  0\n",
      "applicability=14 unique values->  2 null values-->  0\n",
      "applicability=51 unique values->  2 null values-->  0\n",
      "applicability=13 unique values->  2 null values-->  0\n",
      "applicability=5 unique values->  2 null values-->  0\n",
      "applicability=7 unique values->  2 null values-->  0\n",
      "applicability=50 unique values->  2 null values-->  0\n",
      "applicability=52 unique values->  2 null values-->  0\n",
      "applicability=28 unique values->  2 null values-->  0\n",
      "applicability=29 unique values->  2 null values-->  0\n",
      "applicability=31 unique values->  2 null values-->  0\n",
      "applicability=6 unique values->  2 null values-->  0\n",
      "applicability=81 unique values->  2 null values-->  0\n",
      "applicability=66 unique values->  2 null values-->  0\n",
      "applicability=49 unique values->  2 null values-->  0\n",
      "applicability=33 unique values->  2 null values-->  0\n",
      "applicability=63 unique values->  2 null values-->  0\n",
      "applicability=68 unique values->  2 null values-->  0\n",
      "applicability=46 unique values->  2 null values-->  0\n",
      "applicability=19 unique values->  2 null values-->  0\n",
      "applicability=40 unique values->  2 null values-->  0\n",
      "applicability=17 unique values->  2 null values-->  0\n",
      "applicability=32 unique values->  2 null values-->  0\n",
      "applicability=72 unique values->  2 null values-->  0\n",
      "applicability=34 unique values->  2 null values-->  0\n",
      "applicability=35 unique values->  2 null values-->  0\n",
      "applicability=54 unique values->  2 null values-->  0\n",
      "applicability=27 unique values->  2 null values-->  0\n",
      "applicability=16 unique values->  2 null values-->  0\n",
      "applicability=64 unique values->  2 null values-->  0\n",
      "applicability=57 unique values->  2 null values-->  0\n",
      "applicability=56 unique values->  2 null values-->  0\n",
      "applicability=2 unique values->  2 null values-->  0\n",
      "applicability=4 unique values->  2 null values-->  0\n",
      "applicability=67 unique values->  2 null values-->  0\n",
      "applicability=77 unique values->  2 null values-->  0\n",
      "applicability=71 unique values->  2 null values-->  0\n",
      "applicability=59 unique values->  2 null values-->  0\n",
      "paragraphs=3 unique values->  2 null values-->  0\n",
      "paragraphs=6 unique values->  2 null values-->  0\n",
      "paragraphs=6-1 unique values->  2 null values-->  0\n",
      "paragraphs=6-3-c unique values->  2 null values-->  0\n",
      "paragraphs=P1-3 unique values->  2 null values-->  0\n",
      "paragraphs=5 unique values->  2 null values-->  0\n",
      "paragraphs=5-1 unique values->  2 null values-->  0\n",
      "paragraphs=P1-1 unique values->  2 null values-->  0\n",
      "paragraphs=8 unique values->  2 null values-->  0\n",
      "paragraphs=8-1 unique values->  2 null values-->  0\n",
      "paragraphs=13 unique values->  2 null values-->  0\n",
      "paragraphs=10 unique values->  2 null values-->  0\n",
      "paragraphs=10-2 unique values->  2 null values-->  0\n",
      "paragraphs=10-1 unique values->  2 null values-->  0\n",
      "paragraphs=35-1 unique values->  2 null values-->  0\n",
      "paragraphs=2 unique values->  2 null values-->  0\n",
      "paragraphs=2-1 unique values->  2 null values-->  0\n",
      "paragraphs=34 unique values->  2 null values-->  0\n",
      "paragraphs=41 unique values->  2 null values-->  0\n",
      "paragraphs=38 unique values->  2 null values-->  0\n",
      "paragraphs=35 unique values->  2 null values-->  0\n",
      "paragraphs=8-2 unique values->  2 null values-->  0\n",
      "paragraphs=35-3-a unique values->  2 null values-->  0\n",
      "paragraphs=29-3 unique values->  2 null values-->  0\n",
      "paragraphs=4 unique values->  2 null values-->  0\n",
      "paragraphs=29 unique values->  2 null values-->  0\n",
      "paragraphs=P1-1-1 unique values->  2 null values-->  0\n",
      "paragraphs=5-1-e unique values->  2 null values-->  0\n",
      "paragraphs=6-2 unique values->  2 null values-->  0\n",
      "paragraphs=5-1-c unique values->  2 null values-->  0\n",
      "paragraphs=14 unique values->  2 null values-->  0\n",
      "paragraphs=35-3 unique values->  2 null values-->  0\n",
      "paragraphs=6-3-d unique values->  2 null values-->  0\n",
      "paragraphs=5-1-b unique values->  2 null values-->  0\n",
      "paragraphs=5-5 unique values->  2 null values-->  0\n",
      "paragraphs=P12-1 unique values->  2 null values-->  0\n",
      "paragraphs=11-1 unique values->  2 null values-->  0\n",
      "paragraphs=11-2 unique values->  2 null values-->  0\n",
      "paragraphs=9 unique values->  2 null values-->  0\n",
      "paragraphs=9-1 unique values->  2 null values-->  0\n",
      "paragraphs=1 unique values->  2 null values-->  0\n",
      "paragraphs=11 unique values->  2 null values-->  0\n",
      "paragraphs=6-3 unique values->  2 null values-->  0\n",
      "paragraphs=5-3 unique values->  2 null values-->  0\n",
      "paragraphs=5-4 unique values->  2 null values-->  0\n",
      "paragraphs=46 unique values->  2 null values-->  0\n",
      "paragraphs=46-2 unique values->  2 null values-->  0\n",
      "paragraphs=5-1-a unique values->  2 null values-->  0\n",
      "paragraphs=P4-2 unique values->  2 null values-->  0\n",
      "paragraphs=P4-2-2 unique values->  2 null values-->  0\n",
      "paragraphs=17 unique values->  2 null values-->  0\n",
      "paragraphs=18 unique values->  2 null values-->  0\n",
      "paragraphs=7 unique values->  2 null values-->  0\n",
      "paragraphs=7-1 unique values->  2 null values-->  0\n",
      "paragraphs= unique values->  2 null values-->  0\n",
      "paragraphs=4-3-d unique values->  2 null values-->  0\n",
      "paragraphs=4-2 unique values->  2 null values-->  0\n",
      "paragraphs=6-3-e unique values->  2 null values-->  0\n",
      "paragraphs=9-2 unique values->  2 null values-->  0\n",
      "paragraphs=P1-1-2 unique values->  2 null values-->  0\n",
      "paragraphs=P4-2-1 unique values->  2 null values-->  0\n",
      "paragraphs=37-1-c unique values->  2 null values-->  0\n",
      "paragraphs=37 unique values->  2 null values-->  0\n",
      "paragraphs=P7-4 unique values->  2 null values-->  0\n",
      "paragraphs=4-1 unique values->  2 null values-->  0\n",
      "paragraphs=57 unique values->  2 null values-->  0\n",
      "paragraphs=6-3-b unique values->  2 null values-->  0\n",
      "paragraphs=35-3-b unique values->  2 null values-->  0\n",
      "paragraphs=5-1-f unique values->  2 null values-->  0\n",
      "paragraphs=35-4 unique values->  2 null values-->  0\n",
      "paragraphs=P4-2-3 unique values->  2 null values-->  0\n",
      "paragraphs=2-2 unique values->  2 null values-->  0\n",
      "paragraphs=26 unique values->  2 null values-->  0\n",
      "paragraphs=27-2 unique values->  2 null values-->  0\n",
      "paragraphs=27 unique values->  2 null values-->  0\n",
      "paragraphs=36 unique values->  2 null values-->  0\n",
      "paragraphs=36-1 unique values->  2 null values-->  0\n",
      "paragraphs=37-1 unique values->  2 null values-->  0\n",
      "paragraphs=P7-2 unique values->  2 null values-->  0\n",
      "paragraphs=35-2 unique values->  2 null values-->  0\n",
      "paragraphs=5-1-d unique values->  2 null values-->  0\n",
      "paragraphs=6-3-a unique values->  2 null values-->  0\n",
      "paragraphs=30 unique values->  2 null values-->  0\n",
      "paragraphs=46-1 unique values->  2 null values-->  0\n",
      "paragraphs=12 unique values->  2 null values-->  0\n",
      "paragraphs=P7-1 unique values->  2 null values-->  0\n",
      "paragraphs=P7-1-1 unique values->  2 null values-->  0\n",
      "paragraphs=36-2 unique values->  2 null values-->  0\n",
      "paragraphs=5-2 unique values->  2 null values-->  0\n",
      "paragraphs=P1-2 unique values->  2 null values-->  0\n",
      "paragraphs=P1-4 unique values->  2 null values-->  0\n",
      "paragraphs=56-3 unique values->  2 null values-->  0\n",
      "paragraphs=56 unique values->  2 null values-->  0\n",
      "paragraphs=56-1 unique values->  2 null values-->  0\n",
      "paragraphs=P7-1-2 unique values->  2 null values-->  0\n",
      "paragraphs=38-1-a unique values->  2 null values-->  0\n",
      "paragraphs=37-1-b unique values->  2 null values-->  0\n",
      "paragraphs=39 unique values->  2 null values-->  0\n",
      "paragraphs=15-1 unique values->  2 null values-->  0\n",
      "paragraphs=15 unique values->  2 null values-->  0\n",
      "paragraphs=7-2 unique values->  2 null values-->  0\n",
      "paragraphs=P4-4 unique values->  2 null values-->  0\n",
      "paragraphs=15-3 unique values->  2 null values-->  0\n",
      "paragraphs=25-1 unique values->  2 null values-->  0\n",
      "paragraphs=25 unique values->  2 null values-->  0\n",
      "paragraphs=37-1-a unique values->  2 null values-->  0\n",
      "paragraphs=P6-1 unique values->  2 null values-->  0\n",
      "paragraphs=P7-5 unique values->  2 null values-->  0\n",
      "paragraphs=19 unique values->  2 null values-->  0\n",
      "paragraphs=32 unique values->  2 null values-->  0\n",
      "paragraphs=P7-3 unique values->  2 null values-->  0\n",
      "paragraphs=33 unique values->  2 null values-->  0\n",
      "paragraphs=28-1-a unique values->  2 null values-->  0\n",
      "paragraphs=53 unique values->  2 null values-->  0\n",
      "paragraphs=28 unique values->  2 null values-->  0\n",
      "paragraphs=35-2-b unique values->  2 null values-->  0\n",
      "paragraphs=43 unique values->  2 null values-->  0\n",
      "paragraphs=4-3-b unique values->  2 null values-->  0\n",
      "paragraphs=4-3-a unique values->  2 null values-->  0\n",
      "paragraphs=4-3 unique values->  2 null values-->  0\n",
      "paragraphs=28-3 unique values->  2 null values-->  0\n",
      "paragraphs=52 unique values->  2 null values-->  0\n",
      "paragraphs=P13-1 unique values->  2 null values-->  0\n",
      "paragraphs=P7-4-1 unique values->  2 null values-->  0\n",
      "paragraphs=16 unique values->  2 null values-->  0\n",
      "paragraphs=P4-3 unique values->  2 null values-->  0\n",
      "paragraphs=27-1-b unique values->  2 null values-->  0\n",
      "paragraphs=29-1 unique values->  2 null values-->  0\n",
      "paragraphs=32-2 unique values->  2 null values-->  0\n",
      "paragraphs=28-1 unique values->  2 null values-->  0\n",
      "paragraphs=P6-2 unique values->  2 null values-->  0\n",
      "paragraphs=46-4 unique values->  2 null values-->  0\n",
      "ccl_article=1 unique values->  3 null values-->  0\n",
      "ccl_article=10 unique values->  3 null values-->  0\n",
      "ccl_article=11 unique values->  3 null values-->  0\n",
      "ccl_article=12 unique values->  3 null values-->  0\n",
      "ccl_article=13 unique values->  3 null values-->  0\n",
      "ccl_article=14 unique values->  3 null values-->  0\n",
      "ccl_article=17 unique values->  2 null values-->  0\n",
      "ccl_article=18 unique values->  2 null values-->  0\n",
      "ccl_article=2 unique values->  3 null values-->  0\n",
      "ccl_article=25 unique values->  3 null values-->  0\n",
      "ccl_article=3 unique values->  3 null values-->  0\n",
      "ccl_article=34 unique values->  3 null values-->  0\n",
      "ccl_article=38 unique values->  3 null values-->  0\n",
      "ccl_article=4 unique values->  3 null values-->  0\n",
      "ccl_article=46 unique values->  2 null values-->  0\n",
      "ccl_article=5 unique values->  3 null values-->  0\n",
      "ccl_article=6 unique values->  3 null values-->  0\n",
      "ccl_article=7 unique values->  3 null values-->  0\n",
      "ccl_article=8 unique values->  3 null values-->  0\n",
      "ccl_article=9 unique values->  3 null values-->  0\n",
      "ccl_article=p1 unique values->  3 null values-->  0\n",
      "ccl_article=p12 unique values->  2 null values-->  0\n",
      "ccl_article=p4 unique values->  3 null values-->  0\n",
      "ccl_article=p6 unique values->  2 null values-->  0\n",
      "ccl_article=p7 unique values->  3 null values-->  0\n",
      "importance unique values->  5 null values-->  0\n",
      "label unique values->  2 null values-->  0\n"
     ]
    }
   ],
   "source": [
    "for col in combined.columns:\n",
    "    print(col,'unique values-> ',combined[col].nunique(), 'null values--> ', combined[col].isnull().sum())"
   ]
  },
  {
   "cell_type": "code",
   "execution_count": 6,
   "metadata": {
    "execution": {
     "iopub.execute_input": "2021-01-14T11:15:02.698825Z",
     "iopub.status.busy": "2021-01-14T11:15:02.698127Z",
     "iopub.status.idle": "2021-01-14T11:15:02.701797Z",
     "shell.execute_reply": "2021-01-14T11:15:02.701191Z"
    },
    "papermill": {
     "duration": 0.042223,
     "end_time": "2021-01-14T11:15:02.701896",
     "exception": false,
     "start_time": "2021-01-14T11:15:02.659673",
     "status": "completed"
    },
    "tags": []
   },
   "outputs": [],
   "source": [
    "def combine_issues(df):\n",
    "    issue_columns = [\n",
    "        'issue.0', 'issue.1', 'issue.2', 'issue.3', 'issue.4', 'issue.5', 'issue.6', 'issue.7', 'issue.8', \n",
    "        'issue.9', 'issue.10', 'issue.11', 'issue.12', 'issue.13', 'issue.14', 'issue.15', 'issue.16', \n",
    "        'issue.17', 'issue.18', 'issue.19', 'issue.20', 'issue.21', 'issue.22', 'issue.23']\n",
    "    issue_df = combined[issue_columns]\n",
    "    issue_df.fillna('',inplace=True)\n",
    "    issue_df['issues'] = issue_df[issue_columns].apply(lambda x: '. '.join([val for val in x if val != '']), axis=1)\n",
    "    df.drop(issue_columns, axis=1, inplace=True)\n",
    "    issue_df.drop(issue_columns, axis=1, inplace=True)\n",
    "    df = pd.concat([df, issue_df], axis=1)\n",
    "    return df"
   ]
  },
  {
   "cell_type": "code",
   "execution_count": 7,
   "metadata": {
    "execution": {
     "iopub.execute_input": "2021-01-14T11:15:02.750046Z",
     "iopub.status.busy": "2021-01-14T11:15:02.749284Z",
     "iopub.status.idle": "2021-01-14T11:15:02.752329Z",
     "shell.execute_reply": "2021-01-14T11:15:02.751845Z"
    },
    "papermill": {
     "duration": 0.029384,
     "end_time": "2021-01-14T11:15:02.752426",
     "exception": false,
     "start_time": "2021-01-14T11:15:02.723042",
     "status": "completed"
    },
    "tags": []
   },
   "outputs": [],
   "source": [
    "def lowercase_texts(df):\n",
    "    print('converting all text columns in lowercase.',)\n",
    "    for col in combined.columns:\n",
    "        if combined[col].dtype=='object':\n",
    "            combined[col] = combined[col].str.lower()\n",
    "    return df"
   ]
  },
  {
   "cell_type": "code",
   "execution_count": 8,
   "metadata": {
    "execution": {
     "iopub.execute_input": "2021-01-14T11:15:02.807528Z",
     "iopub.status.busy": "2021-01-14T11:15:02.806764Z",
     "iopub.status.idle": "2021-01-14T11:15:02.809788Z",
     "shell.execute_reply": "2021-01-14T11:15:02.809275Z"
    },
    "papermill": {
     "duration": 0.035826,
     "end_time": "2021-01-14T11:15:02.809891",
     "exception": false,
     "start_time": "2021-01-14T11:15:02.774065",
     "status": "completed"
    },
    "tags": []
   },
   "outputs": [],
   "source": [
    "def universalize_countries(df):\n",
    "# converting all the countries to single symbolic numerical value.(eg - Albania, albania, abl, ab -> 1)\n",
    "    country_dict_A = df[['respondentOrderEng','country.name']].set_index('country.name').T.to_dict('list')\n",
    "    country_dict_C = df[['respondentOrderEng','respondent.0']].set_index('respondent.0').T.to_dict('list')    \n",
    "    country_dict = {}\n",
    "    for d in (country_dict_A, country_dict_C):#, country_dict_C): #, country_dict_D, country_dict_E, country_dict_F): \n",
    "        country_dict.update(d)\n",
    "        \n",
    "    country_dict = {k: v for k, v in country_dict.items() if pd.notna(k)}\n",
    "    df['respondent.0'] = df['respondent.0'].apply(lambda x: country_dict[x][0])\n",
    "    df['respondent.1'] = df['respondent.1'].apply(lambda x: country_dict[x][0] if pd.notnull(x) else x)\n",
    "    df['respondent.2'] = df['respondent.2'].apply(lambda x: country_dict[x][0] if pd.notnull(x) else x)\n",
    "    df['respondent.3'] = df['respondent.3'].apply(lambda x: country_dict[x][0] if pd.notnull(x) else x)\n",
    "    df['respondent.4'] = df['respondent.4'].apply(lambda x: country_dict[x][0] if pd.notnull(x) else x)\n",
    "    del df['respondentOrderEng']\n",
    "    return df"
   ]
  },
  {
   "cell_type": "code",
   "execution_count": 9,
   "metadata": {
    "execution": {
     "iopub.execute_input": "2021-01-14T11:15:02.860227Z",
     "iopub.status.busy": "2021-01-14T11:15:02.859478Z",
     "iopub.status.idle": "2021-01-14T11:15:02.862474Z",
     "shell.execute_reply": "2021-01-14T11:15:02.861977Z"
    },
    "papermill": {
     "duration": 0.031334,
     "end_time": "2021-01-14T11:15:02.862583",
     "exception": false,
     "start_time": "2021-01-14T11:15:02.831249",
     "status": "completed"
    },
    "tags": []
   },
   "outputs": [],
   "source": [
    "def remove_constant_values(df):\n",
    "#     this function removes redundant constant features.\n",
    "    print('Removing constant columns -> ',)\n",
    "    for col in df.columns:\n",
    "        if df[col].nunique()==1:\n",
    "            print(col,end=', ' )\n",
    "            del df[col]\n",
    "    return df\n",
    "\n",
    "def remove_unwanted_features(df):\n",
    "#     these features dont add any valueable signal to the data.\n",
    "    remove_cols =['parties.0', 'country.alpha2', 'parties.1', 'country.name', 'docname', 'appno', 'ecli', 'kpdate', 'originatingbody_name']\n",
    "    for col in remove_cols:\n",
    "        if col in df.columns:\n",
    "            df.drop(col, axis=1, inplace=True)\n",
    "    return df"
   ]
  },
  {
   "cell_type": "code",
   "execution_count": 10,
   "metadata": {
    "execution": {
     "iopub.execute_input": "2021-01-14T11:15:02.916344Z",
     "iopub.status.busy": "2021-01-14T11:15:02.915600Z",
     "iopub.status.idle": "2021-01-14T11:15:02.918249Z",
     "shell.execute_reply": "2021-01-14T11:15:02.918754Z"
    },
    "papermill": {
     "duration": 0.034613,
     "end_time": "2021-01-14T11:15:02.918868",
     "exception": false,
     "start_time": "2021-01-14T11:15:02.884255",
     "status": "completed"
    },
    "tags": []
   },
   "outputs": [],
   "source": [
    "def featurize_columns(df):\n",
    "#     making new columns.\n",
    "    df['itemid'] = df['itemid'].apply(lambda x: x[4:7])\n",
    "    df['sharepointid'] = df['sharepointid'].apply(lambda x: str(x)[:3])\n",
    "    df['total_respondents'] = 5- df[['respondent.0','respondent.1','respondent.2','respondent.3','respondent.4']].isna().sum(axis=1)\n",
    "\n",
    "    return df\n",
    "\n",
    "def featurize_date_columns(df):\n",
    "    #     making new columns based on dates.\n",
    "    df['daysbetween_intro_decision'] = (pd.to_datetime(df['decisiondate']) - pd.to_datetime(df['introductiondate'])).dt.days\n",
    "    df['daysbetween_intro_judgement'] = (pd.to_datetime(df['judgementdate']) - pd.to_datetime(df['introductiondate'])).dt.days\n",
    "    df['daysbetween_decision_judgement'] = (pd.to_datetime(df['judgementdate']) - pd.to_datetime(df['decisiondate'])).dt.days\n",
    "    df.drop(['decisiondate','introductiondate','judgementdate'], axis=1, inplace=True)\n",
    "    return df"
   ]
  },
  {
   "cell_type": "code",
   "execution_count": 11,
   "metadata": {
    "execution": {
     "iopub.execute_input": "2021-01-14T11:15:02.968283Z",
     "iopub.status.busy": "2021-01-14T11:15:02.967447Z",
     "iopub.status.idle": "2021-01-14T11:15:02.969675Z",
     "shell.execute_reply": "2021-01-14T11:15:02.970163Z"
    },
    "papermill": {
     "duration": 0.029591,
     "end_time": "2021-01-14T11:15:02.970270",
     "exception": false,
     "start_time": "2021-01-14T11:15:02.940679",
     "status": "completed"
    },
    "tags": []
   },
   "outputs": [],
   "source": [
    "le = preprocessing.LabelEncoder()\n",
    "def encoding(df):\n",
    "    df['doctypebranch'] = le.fit_transform(df['doctypebranch'])\n",
    "    df['separateopinion'] = le.fit_transform(df['separateopinion'])\n",
    "    df['typedescription'] = le.fit_transform(df['typedescription'])\n",
    "    return df"
   ]
  },
  {
   "cell_type": "code",
   "execution_count": 12,
   "metadata": {
    "execution": {
     "iopub.execute_input": "2021-01-14T11:15:03.020329Z",
     "iopub.status.busy": "2021-01-14T11:15:03.019592Z",
     "iopub.status.idle": "2021-01-14T11:15:03.022546Z",
     "shell.execute_reply": "2021-01-14T11:15:03.022068Z"
    },
    "papermill": {
     "duration": 0.030519,
     "end_time": "2021-01-14T11:15:03.022638",
     "exception": false,
     "start_time": "2021-01-14T11:15:02.992119",
     "status": "completed"
    },
    "tags": []
   },
   "outputs": [],
   "source": [
    "def fill_missing(df):\n",
    "    for col in df.columns:\n",
    "        if col not in ['label', 'issues']:\n",
    "            df[col].fillna(0,inplace=True)\n",
    "            df[col] = df[col].astype('int')\n",
    "    return df"
   ]
  },
  {
   "cell_type": "code",
   "execution_count": 13,
   "metadata": {
    "execution": {
     "iopub.execute_input": "2021-01-14T11:15:03.071962Z",
     "iopub.status.busy": "2021-01-14T11:15:03.071129Z",
     "iopub.status.idle": "2021-01-14T11:15:03.092175Z",
     "shell.execute_reply": "2021-01-14T11:15:03.091697Z"
    },
    "papermill": {
     "duration": 0.047762,
     "end_time": "2021-01-14T11:15:03.092273",
     "exception": false,
     "start_time": "2021-01-14T11:15:03.044511",
     "status": "completed"
    },
    "tags": []
   },
   "outputs": [
    {
     "data": {
      "text/html": [
       "<div>\n",
       "<style scoped>\n",
       "    .dataframe tbody tr th:only-of-type {\n",
       "        vertical-align: middle;\n",
       "    }\n",
       "\n",
       "    .dataframe tbody tr th {\n",
       "        vertical-align: top;\n",
       "    }\n",
       "\n",
       "    .dataframe thead th {\n",
       "        text-align: right;\n",
       "    }\n",
       "</style>\n",
       "<table border=\"1\" class=\"dataframe\">\n",
       "  <thead>\n",
       "    <tr style=\"text-align: right;\">\n",
       "      <th></th>\n",
       "      <th>appno</th>\n",
       "      <th>application</th>\n",
       "      <th>country.alpha2</th>\n",
       "      <th>country.name</th>\n",
       "      <th>decisiondate</th>\n",
       "      <th>docname</th>\n",
       "      <th>doctypebranch</th>\n",
       "      <th>ecli</th>\n",
       "      <th>introductiondate</th>\n",
       "      <th>issue.0</th>\n",
       "      <th>...</th>\n",
       "      <th>ccl_article=7</th>\n",
       "      <th>ccl_article=8</th>\n",
       "      <th>ccl_article=9</th>\n",
       "      <th>ccl_article=p1</th>\n",
       "      <th>ccl_article=p12</th>\n",
       "      <th>ccl_article=p4</th>\n",
       "      <th>ccl_article=p6</th>\n",
       "      <th>ccl_article=p7</th>\n",
       "      <th>importance</th>\n",
       "      <th>label</th>\n",
       "    </tr>\n",
       "  </thead>\n",
       "  <tbody>\n",
       "    <tr>\n",
       "      <th>0</th>\n",
       "      <td>2052/08</td>\n",
       "      <td>MS WORD</td>\n",
       "      <td>ru</td>\n",
       "      <td>Russian Federation</td>\n",
       "      <td>NaN</td>\n",
       "      <td>CASE OF KOKOSHKINA v. RUSSIA</td>\n",
       "      <td>CHAMBER</td>\n",
       "      <td>ECLI:CE:ECHR:2009:0528JUD000205208</td>\n",
       "      <td>NaN</td>\n",
       "      <td>NaN</td>\n",
       "      <td>...</td>\n",
       "      <td>0</td>\n",
       "      <td>0</td>\n",
       "      <td>0</td>\n",
       "      <td>0</td>\n",
       "      <td>0</td>\n",
       "      <td>0</td>\n",
       "      <td>0</td>\n",
       "      <td>0</td>\n",
       "      <td>4</td>\n",
       "      <td>train</td>\n",
       "    </tr>\n",
       "    <tr>\n",
       "      <th>1</th>\n",
       "      <td>4728/07</td>\n",
       "      <td>MS WORD</td>\n",
       "      <td>tr</td>\n",
       "      <td>Turkey</td>\n",
       "      <td>NaN</td>\n",
       "      <td>CASE OF ÖZCAN v. TURKEY</td>\n",
       "      <td>COMMITTEE</td>\n",
       "      <td>ECLI:CE:ECHR:2018:0710JUD000472807</td>\n",
       "      <td>NaN</td>\n",
       "      <td>NaN</td>\n",
       "      <td>...</td>\n",
       "      <td>0</td>\n",
       "      <td>0</td>\n",
       "      <td>0</td>\n",
       "      <td>0</td>\n",
       "      <td>0</td>\n",
       "      <td>0</td>\n",
       "      <td>0</td>\n",
       "      <td>0</td>\n",
       "      <td>4</td>\n",
       "      <td>train</td>\n",
       "    </tr>\n",
       "    <tr>\n",
       "      <th>2</th>\n",
       "      <td>44135/06</td>\n",
       "      <td>MS WORD</td>\n",
       "      <td>si</td>\n",
       "      <td>Slovenia</td>\n",
       "      <td>NaN</td>\n",
       "      <td>CASE OF DANIJEL PEČNIK v. SLOVENIA</td>\n",
       "      <td>CHAMBER</td>\n",
       "      <td>ECLI:CE:ECHR:2012:1018JUD004413506</td>\n",
       "      <td>NaN</td>\n",
       "      <td>NaN</td>\n",
       "      <td>...</td>\n",
       "      <td>0</td>\n",
       "      <td>0</td>\n",
       "      <td>0</td>\n",
       "      <td>0</td>\n",
       "      <td>0</td>\n",
       "      <td>0</td>\n",
       "      <td>0</td>\n",
       "      <td>0</td>\n",
       "      <td>4</td>\n",
       "      <td>train</td>\n",
       "    </tr>\n",
       "    <tr>\n",
       "      <th>3</th>\n",
       "      <td>2607/08</td>\n",
       "      <td>MS WORD</td>\n",
       "      <td>ch</td>\n",
       "      <td>Switzerland</td>\n",
       "      <td>NaN</td>\n",
       "      <td>CASE OF PALANCI v. SWITZERLAND</td>\n",
       "      <td>CHAMBER</td>\n",
       "      <td>ECLI:CE:ECHR:2014:0325JUD000260708</td>\n",
       "      <td>NaN</td>\n",
       "      <td>NaN</td>\n",
       "      <td>...</td>\n",
       "      <td>0</td>\n",
       "      <td>-1</td>\n",
       "      <td>0</td>\n",
       "      <td>0</td>\n",
       "      <td>0</td>\n",
       "      <td>0</td>\n",
       "      <td>0</td>\n",
       "      <td>0</td>\n",
       "      <td>4</td>\n",
       "      <td>train</td>\n",
       "    </tr>\n",
       "    <tr>\n",
       "      <th>4</th>\n",
       "      <td>27001/06</td>\n",
       "      <td>MS WORD</td>\n",
       "      <td>ru</td>\n",
       "      <td>Russian Federation</td>\n",
       "      <td>NaN</td>\n",
       "      <td>CASE OF AMANAT ILYASOVA AND OTHERS v. RUSSIA</td>\n",
       "      <td>CHAMBER</td>\n",
       "      <td>ECLI:CE:ECHR:2009:1001JUD002700106</td>\n",
       "      <td>NaN</td>\n",
       "      <td>NaN</td>\n",
       "      <td>...</td>\n",
       "      <td>0</td>\n",
       "      <td>0</td>\n",
       "      <td>0</td>\n",
       "      <td>0</td>\n",
       "      <td>0</td>\n",
       "      <td>0</td>\n",
       "      <td>0</td>\n",
       "      <td>0</td>\n",
       "      <td>4</td>\n",
       "      <td>train</td>\n",
       "    </tr>\n",
       "  </tbody>\n",
       "</table>\n",
       "<p>5 rows × 329 columns</p>\n",
       "</div>"
      ],
      "text/plain": [
       "      appno application country.alpha2        country.name decisiondate  \\\n",
       "0   2052/08     MS WORD             ru  Russian Federation          NaN   \n",
       "1   4728/07     MS WORD             tr              Turkey          NaN   \n",
       "2  44135/06     MS WORD             si            Slovenia          NaN   \n",
       "3   2607/08     MS WORD             ch         Switzerland          NaN   \n",
       "4  27001/06     MS WORD             ru  Russian Federation          NaN   \n",
       "\n",
       "                                        docname doctypebranch  \\\n",
       "0                  CASE OF KOKOSHKINA v. RUSSIA       CHAMBER   \n",
       "1                       CASE OF ÖZCAN v. TURKEY     COMMITTEE   \n",
       "2            CASE OF DANIJEL PEČNIK v. SLOVENIA       CHAMBER   \n",
       "3                CASE OF PALANCI v. SWITZERLAND       CHAMBER   \n",
       "4  CASE OF AMANAT ILYASOVA AND OTHERS v. RUSSIA       CHAMBER   \n",
       "\n",
       "                                 ecli introductiondate issue.0  ...  \\\n",
       "0  ECLI:CE:ECHR:2009:0528JUD000205208              NaN     NaN  ...   \n",
       "1  ECLI:CE:ECHR:2018:0710JUD000472807              NaN     NaN  ...   \n",
       "2  ECLI:CE:ECHR:2012:1018JUD004413506              NaN     NaN  ...   \n",
       "3  ECLI:CE:ECHR:2014:0325JUD000260708              NaN     NaN  ...   \n",
       "4  ECLI:CE:ECHR:2009:1001JUD002700106              NaN     NaN  ...   \n",
       "\n",
       "  ccl_article=7 ccl_article=8 ccl_article=9 ccl_article=p1 ccl_article=p12  \\\n",
       "0             0             0             0              0               0   \n",
       "1             0             0             0              0               0   \n",
       "2             0             0             0              0               0   \n",
       "3             0            -1             0              0               0   \n",
       "4             0             0             0              0               0   \n",
       "\n",
       "  ccl_article=p4 ccl_article=p6 ccl_article=p7 importance  label  \n",
       "0              0              0              0          4  train  \n",
       "1              0              0              0          4  train  \n",
       "2              0              0              0          4  train  \n",
       "3              0              0              0          4  train  \n",
       "4              0              0              0          4  train  \n",
       "\n",
       "[5 rows x 329 columns]"
      ]
     },
     "execution_count": 13,
     "metadata": {},
     "output_type": "execute_result"
    }
   ],
   "source": [
    "combined.head()"
   ]
  },
  {
   "cell_type": "code",
   "execution_count": 14,
   "metadata": {
    "execution": {
     "iopub.execute_input": "2021-01-14T11:15:03.146305Z",
     "iopub.status.busy": "2021-01-14T11:15:03.145001Z",
     "iopub.status.idle": "2021-01-14T11:15:05.056458Z",
     "shell.execute_reply": "2021-01-14T11:15:05.057132Z"
    },
    "papermill": {
     "duration": 1.94177,
     "end_time": "2021-01-14T11:15:05.057329",
     "exception": false,
     "start_time": "2021-01-14T11:15:03.115559",
     "status": "completed"
    },
    "tags": []
   },
   "outputs": [
    {
     "name": "stderr",
     "output_type": "stream",
     "text": [
      "/opt/conda/lib/python3.7/site-packages/pandas/core/frame.py:4327: SettingWithCopyWarning: \n",
      "A value is trying to be set on a copy of a slice from a DataFrame\n",
      "\n",
      "See the caveats in the documentation: https://pandas.pydata.org/pandas-docs/stable/user_guide/indexing.html#returning-a-view-versus-a-copy\n",
      "  downcast=downcast,\n",
      "/opt/conda/lib/python3.7/site-packages/ipykernel_launcher.py:8: SettingWithCopyWarning: \n",
      "A value is trying to be set on a copy of a slice from a DataFrame.\n",
      "Try using .loc[row_indexer,col_indexer] = value instead\n",
      "\n",
      "See the caveats in the documentation: https://pandas.pydata.org/pandas-docs/stable/user_guide/indexing.html#returning-a-view-versus-a-copy\n",
      "  \n",
      "/opt/conda/lib/python3.7/site-packages/pandas/core/frame.py:4174: SettingWithCopyWarning: \n",
      "A value is trying to be set on a copy of a slice from a DataFrame\n",
      "\n",
      "See the caveats in the documentation: https://pandas.pydata.org/pandas-docs/stable/user_guide/indexing.html#returning-a-view-versus-a-copy\n",
      "  errors=errors,\n"
     ]
    },
    {
     "name": "stdout",
     "output_type": "stream",
     "text": [
      "combined shape after combining issues -> (13638, 306)\n",
      "converting all text columns in lowercase.\n"
     ]
    },
    {
     "name": "stderr",
     "output_type": "stream",
     "text": [
      "/opt/conda/lib/python3.7/site-packages/ipykernel_launcher.py:3: UserWarning: DataFrame columns are not unique, some columns will be omitted.\n",
      "  This is separate from the ipykernel package so we can avoid doing imports until\n",
      "/opt/conda/lib/python3.7/site-packages/ipykernel_launcher.py:4: UserWarning: DataFrame columns are not unique, some columns will be omitted.\n",
      "  after removing the cwd from sys.path.\n"
     ]
    },
    {
     "name": "stdout",
     "output_type": "stream",
     "text": [
      "Removing constant columns -> \n",
      "application, issue.24, issue.25, issue.26, languageisocode, originatingbody_type, parties.2, respondent.3, respondent.4, documentcollectionid=CASELAW, documentcollectionid=JUDGMENTS, documentcollectionid=ENG, \n",
      "combined shape after removing constant features-> (13638, 294)\n"
     ]
    }
   ],
   "source": [
    "combined = combine_issues(combined)\n",
    "print('combined shape after combining issues ->', combined.shape)\n",
    "combined = lowercase_texts(combined)\n",
    "combined = universalize_countries(combined)\n",
    "combined = featurize_columns(combined)\n",
    "combined = featurize_date_columns(combined)\n",
    "combined = encoding(combined)\n",
    "combined = remove_constant_values(combined)\n",
    "print('\\ncombined shape after removing constant features->', combined.shape)\n",
    "combined = remove_unwanted_features(combined)\n",
    "combined = fill_missing(combined)"
   ]
  },
  {
   "cell_type": "code",
   "execution_count": 15,
   "metadata": {
    "execution": {
     "iopub.execute_input": "2021-01-14T11:15:05.157251Z",
     "iopub.status.busy": "2021-01-14T11:15:05.156396Z",
     "iopub.status.idle": "2021-01-14T11:15:06.933786Z",
     "shell.execute_reply": "2021-01-14T11:15:06.934879Z"
    },
    "papermill": {
     "duration": 1.829571,
     "end_time": "2021-01-14T11:15:06.935062",
     "exception": false,
     "start_time": "2021-01-14T11:15:05.105491",
     "status": "completed"
    },
    "tags": []
   },
   "outputs": [],
   "source": [
    "combined.to_csv('combined_inbetween.csv',index=False)"
   ]
  },
  {
   "cell_type": "code",
   "execution_count": 16,
   "metadata": {
    "execution": {
     "iopub.execute_input": "2021-01-14T11:15:07.052914Z",
     "iopub.status.busy": "2021-01-14T11:15:07.052190Z",
     "iopub.status.idle": "2021-01-14T11:15:11.597194Z",
     "shell.execute_reply": "2021-01-14T11:15:11.596052Z"
    },
    "papermill": {
     "duration": 4.628176,
     "end_time": "2021-01-14T11:15:11.597330",
     "exception": false,
     "start_time": "2021-01-14T11:15:06.969154",
     "status": "completed"
    },
    "tags": []
   },
   "outputs": [
    {
     "data": {
      "text/html": [
       "<style type='text/css'>\n",
       ".datatable table.frame { margin-bottom: 0; }\n",
       ".datatable table.frame thead { border-bottom: none; }\n",
       ".datatable table.frame tr.coltypes td {  color: #FFFFFF;  line-height: 6px;  padding: 0 0.5em;}\n",
       ".datatable .bool    { background: #DDDD99; }\n",
       ".datatable .object  { background: #565656; }\n",
       ".datatable .int     { background: #5D9E5D; }\n",
       ".datatable .float   { background: #4040CC; }\n",
       ".datatable .str     { background: #CC4040; }\n",
       ".datatable .row_index {  background: var(--jp-border-color3);  border-right: 1px solid var(--jp-border-color0);  color: var(--jp-ui-font-color3);  font-size: 9px;}\n",
       ".datatable .frame tr.coltypes .row_index {  background: var(--jp-border-color0);}\n",
       ".datatable th:nth-child(2) { padding-left: 12px; }\n",
       ".datatable .hellipsis {  color: var(--jp-cell-editor-border-color);}\n",
       ".datatable .vellipsis {  background: var(--jp-layout-color0);  color: var(--jp-cell-editor-border-color);}\n",
       ".datatable .na {  color: var(--jp-cell-editor-border-color);  font-size: 80%;}\n",
       ".datatable .footer { font-size: 9px; }\n",
       ".datatable .frame_dimensions {  background: var(--jp-border-color3);  border-top: 1px solid var(--jp-border-color0);  color: var(--jp-ui-font-color3);  display: inline-block;  opacity: 0.6;  padding: 1px 10px 1px 5px;}\n",
       "</style>\n"
      ],
      "text/plain": [
       "<IPython.core.display.HTML object>"
      ]
     },
     "metadata": {},
     "output_type": "display_data"
    }
   ],
   "source": [
    "from lightgbm import LGBMClassifier\n",
    "from xgboost import XGBClassifier\n",
    "from sklearn.model_selection import GridSearchCV \n",
    "from sklearn.model_selection import train_test_split\n",
    "from sklearn.model_selection import cross_val_predict\n",
    "from sklearn.metrics import accuracy_score"
   ]
  },
  {
   "cell_type": "code",
   "execution_count": 17,
   "metadata": {
    "execution": {
     "iopub.execute_input": "2021-01-14T11:15:11.660237Z",
     "iopub.status.busy": "2021-01-14T11:15:11.658555Z",
     "iopub.status.idle": "2021-01-14T11:15:11.660921Z",
     "shell.execute_reply": "2021-01-14T11:15:11.661400Z"
    },
    "papermill": {
     "duration": 0.037841,
     "end_time": "2021-01-14T11:15:11.661516",
     "exception": false,
     "start_time": "2021-01-14T11:15:11.623675",
     "status": "completed"
    },
    "tags": []
   },
   "outputs": [],
   "source": [
    "target_col = 'importance'"
   ]
  },
  {
   "cell_type": "code",
   "execution_count": 18,
   "metadata": {
    "execution": {
     "iopub.execute_input": "2021-01-14T11:15:11.733241Z",
     "iopub.status.busy": "2021-01-14T11:15:11.722973Z",
     "iopub.status.idle": "2021-01-14T11:15:11.785421Z",
     "shell.execute_reply": "2021-01-14T11:15:11.784866Z"
    },
    "papermill": {
     "duration": 0.098028,
     "end_time": "2021-01-14T11:15:11.785537",
     "exception": false,
     "start_time": "2021-01-14T11:15:11.687509",
     "status": "completed"
    },
    "tags": []
   },
   "outputs": [],
   "source": [
    "combined_train = combined.query('label == \"train\"').drop(['issues', 'label'] , axis=1)"
   ]
  },
  {
   "cell_type": "code",
   "execution_count": 19,
   "metadata": {
    "execution": {
     "iopub.execute_input": "2021-01-14T11:15:11.852305Z",
     "iopub.status.busy": "2021-01-14T11:15:11.851647Z",
     "iopub.status.idle": "2021-01-14T11:15:11.875345Z",
     "shell.execute_reply": "2021-01-14T11:15:11.874825Z"
    },
    "papermill": {
     "duration": 0.062946,
     "end_time": "2021-01-14T11:15:11.875455",
     "exception": false,
     "start_time": "2021-01-14T11:15:11.812509",
     "status": "completed"
    },
    "tags": []
   },
   "outputs": [],
   "source": [
    "X_train, X_test, Y_train, Y_test = train_test_split(combined_train.drop([target_col], axis=1),combined_train[target_col],test_size=0.2,stratify=combined_train[target_col])"
   ]
  },
  {
   "cell_type": "markdown",
   "metadata": {
    "papermill": {
     "duration": 0.026398,
     "end_time": "2021-01-14T11:15:11.929280",
     "exception": false,
     "start_time": "2021-01-14T11:15:11.902882",
     "status": "completed"
    },
    "tags": []
   },
   "source": [
    "xgbm = LGBMClassifier(max_depth=6, learning_rate=0.1, n_estimators=500,\n",
    "                         min_child_weight=100, subsample=1.0, \n",
    "                         colsample_bytree=0.8, colsample_bylevel=0.8,\n",
    "                         random_state=42, n_jobs=-1)"
   ]
  },
  {
   "cell_type": "markdown",
   "metadata": {
    "papermill": {
     "duration": 0.026937,
     "end_time": "2021-01-14T11:15:11.985227",
     "exception": false,
     "start_time": "2021-01-14T11:15:11.958290",
     "status": "completed"
    },
    "tags": []
   },
   "source": [
    "oof_preds = cross_val_predict(xgbm, X_train, Y_train, cv=5, \n",
    "                                  n_jobs=-1, method=\"predict\")\n",
    "print(\"cv score: \", accuracy_score(oof_preds, Y_train) * 100)"
   ]
  },
  {
   "cell_type": "code",
   "execution_count": 20,
   "metadata": {
    "execution": {
     "iopub.execute_input": "2021-01-14T11:15:12.044623Z",
     "iopub.status.busy": "2021-01-14T11:15:12.043744Z",
     "iopub.status.idle": "2021-01-14T11:15:12.046892Z",
     "shell.execute_reply": "2021-01-14T11:15:12.046398Z"
    },
    "papermill": {
     "duration": 0.034509,
     "end_time": "2021-01-14T11:15:12.046992",
     "exception": false,
     "start_time": "2021-01-14T11:15:12.012483",
     "status": "completed"
    },
    "tags": []
   },
   "outputs": [],
   "source": [
    "XG = XGBClassifier()"
   ]
  },
  {
   "cell_type": "code",
   "execution_count": 21,
   "metadata": {
    "execution": {
     "iopub.execute_input": "2021-01-14T11:15:12.107593Z",
     "iopub.status.busy": "2021-01-14T11:15:12.106769Z",
     "iopub.status.idle": "2021-01-14T11:17:00.731746Z",
     "shell.execute_reply": "2021-01-14T11:17:00.732319Z"
    },
    "papermill": {
     "duration": 108.658842,
     "end_time": "2021-01-14T11:17:00.732460",
     "exception": false,
     "start_time": "2021-01-14T11:15:12.073618",
     "status": "completed"
    },
    "tags": []
   },
   "outputs": [
    {
     "name": "stdout",
     "output_type": "stream",
     "text": [
      "cv score:  88.76372852717545\n"
     ]
    }
   ],
   "source": [
    "oof_preds = cross_val_predict(XG, X_train, Y_train, cv=5, \n",
    "                                  n_jobs=-1, method=\"predict\")\n",
    "print(\"cv score: \", accuracy_score(oof_preds, Y_train) * 100)"
   ]
  },
  {
   "cell_type": "markdown",
   "metadata": {
    "papermill": {
     "duration": 0.026851,
     "end_time": "2021-01-14T11:17:00.786771",
     "exception": false,
     "start_time": "2021-01-14T11:17:00.759920",
     "status": "completed"
    },
    "tags": []
   },
   "source": [
    "tst = combined.query('label == \"test\"').drop(['issues', 'label', target_col] , axis=1)\n",
    "xgbm.fit(X_train,Y_train)\n",
    "preds = xgbm.predict(tst)\n",
    "preds "
   ]
  },
  {
   "cell_type": "code",
   "execution_count": 22,
   "metadata": {
    "execution": {
     "iopub.execute_input": "2021-01-14T11:17:00.872595Z",
     "iopub.status.busy": "2021-01-14T11:17:00.857214Z",
     "iopub.status.idle": "2021-01-14T11:17:24.401655Z",
     "shell.execute_reply": "2021-01-14T11:17:24.402296Z"
    },
    "papermill": {
     "duration": 23.588617,
     "end_time": "2021-01-14T11:17:24.402455",
     "exception": false,
     "start_time": "2021-01-14T11:17:00.813838",
     "status": "completed"
    },
    "tags": []
   },
   "outputs": [
    {
     "data": {
      "text/plain": [
       "array([4, 4, 4, ..., 4, 4, 4], dtype=int64)"
      ]
     },
     "execution_count": 22,
     "metadata": {},
     "output_type": "execute_result"
    }
   ],
   "source": [
    "tst = combined.query('label == \"test\"').drop(['issues', 'label', target_col] , axis=1)\n",
    "XG.fit(X_train,Y_train)\n",
    "preds = XG.predict(tst)\n",
    "preds"
   ]
  },
  {
   "cell_type": "code",
   "execution_count": 23,
   "metadata": {
    "execution": {
     "iopub.execute_input": "2021-01-14T11:17:24.482423Z",
     "iopub.status.busy": "2021-01-14T11:17:24.481508Z",
     "iopub.status.idle": "2021-01-14T11:17:24.501238Z",
     "shell.execute_reply": "2021-01-14T11:17:24.501909Z"
    },
    "papermill": {
     "duration": 0.063586,
     "end_time": "2021-01-14T11:17:24.502092",
     "exception": false,
     "start_time": "2021-01-14T11:17:24.438506",
     "status": "completed"
    },
    "tags": []
   },
   "outputs": [],
   "source": [
    "sub = pd.DataFrame(columns=[\"appno\",\"importance\"])\n",
    "sub[\"appno\"] = test.appno\n",
    "sub[\"importance\"] = preds\n",
    "sub.to_csv(\"result2.csv\", index=False)"
   ]
  },
  {
   "cell_type": "code",
   "execution_count": null,
   "metadata": {
    "papermill": {
     "duration": 0.03504,
     "end_time": "2021-01-14T11:17:24.572843",
     "exception": false,
     "start_time": "2021-01-14T11:17:24.537803",
     "status": "completed"
    },
    "tags": []
   },
   "outputs": [],
   "source": []
  }
 ],
 "metadata": {
  "kernelspec": {
   "display_name": "Python 3",
   "language": "python",
   "name": "python3"
  },
  "language_info": {
   "codemirror_mode": {
    "name": "ipython",
    "version": 3
   },
   "file_extension": ".py",
   "mimetype": "text/x-python",
   "name": "python",
   "nbconvert_exporter": "python",
   "pygments_lexer": "ipython3",
   "version": "3.7.6"
  },
  "papermill": {
   "duration": 148.774602,
   "end_time": "2021-01-14T11:17:25.015328",
   "environment_variables": {},
   "exception": null,
   "input_path": "__notebook__.ipynb",
   "output_path": "__notebook__.ipynb",
   "parameters": {},
   "start_time": "2021-01-14T11:14:56.240726",
   "version": "2.1.0"
  }
 },
 "nbformat": 4,
 "nbformat_minor": 4
}
